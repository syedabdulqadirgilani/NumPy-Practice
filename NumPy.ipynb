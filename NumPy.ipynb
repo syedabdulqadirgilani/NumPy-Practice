{
  "nbformat": 4,
  "nbformat_minor": 0,
  "metadata": {
    "colab": {
      "name": "NumPy.ipynb",
      "provenance": [],
      "collapsed_sections": []
    },
    "kernelspec": {
      "name": "python3",
      "display_name": "Python 3"
    },
    "language_info": {
      "name": "python"
    }
  },
  "cells": [
    {
      "cell_type": "code",
      "metadata": {
        "id": "GqN8toRQyDeX"
      },
      "source": [
        "import numpy as np"
      ],
      "execution_count": 1,
      "outputs": []
    },
    {
      "cell_type": "code",
      "metadata": {
        "colab": {
          "base_uri": "https://localhost:8080/"
        },
        "id": "FzhV_JUCyIog",
        "outputId": "2ae53dc4-5bda-49db-e873-9e6a2665dfe2"
      },
      "source": [
        "2+3"
      ],
      "execution_count": 2,
      "outputs": [
        {
          "output_type": "execute_result",
          "data": {
            "text/plain": [
              "5"
            ]
          },
          "metadata": {
            "tags": []
          },
          "execution_count": 2
        }
      ]
    },
    {
      "cell_type": "code",
      "metadata": {
        "id": "xox_sR-H1MZ7"
      },
      "source": [
        "nums=[1,2,'3.0',True]"
      ],
      "execution_count": 48,
      "outputs": []
    },
    {
      "cell_type": "code",
      "metadata": {
        "colab": {
          "base_uri": "https://localhost:8080/"
        },
        "id": "GQocC3Tv2VK3",
        "outputId": "57743a1e-c416-4d10-db7d-3b5ea061c97d"
      },
      "source": [
        "nums=np.array(nums)\n",
        "nums"
      ],
      "execution_count": 49,
      "outputs": [
        {
          "output_type": "execute_result",
          "data": {
            "text/plain": [
              "array(['1', '2', '3.0', 'True'], dtype='<U21')"
            ]
          },
          "metadata": {
            "tags": []
          },
          "execution_count": 49
        }
      ]
    },
    {
      "cell_type": "code",
      "metadata": {
        "colab": {
          "base_uri": "https://localhost:8080/"
        },
        "id": "15MsZOH42YVe",
        "outputId": "5b6b1ef6-f193-482a-e80f-68d5d986e546"
      },
      "source": [
        "nums.ndim"
      ],
      "execution_count": 50,
      "outputs": [
        {
          "output_type": "execute_result",
          "data": {
            "text/plain": [
              "1"
            ]
          },
          "metadata": {
            "tags": []
          },
          "execution_count": 50
        }
      ]
    },
    {
      "cell_type": "code",
      "metadata": {
        "colab": {
          "base_uri": "https://localhost:8080/"
        },
        "id": "gkPCMfYw2naL",
        "outputId": "bb6b1c69-d51d-4a3a-d45e-d02ef76d1ffc"
      },
      "source": [
        "nums.shape"
      ],
      "execution_count": 51,
      "outputs": [
        {
          "output_type": "execute_result",
          "data": {
            "text/plain": [
              "(4,)"
            ]
          },
          "metadata": {
            "tags": []
          },
          "execution_count": 51
        }
      ]
    },
    {
      "cell_type": "code",
      "metadata": {
        "colab": {
          "base_uri": "https://localhost:8080/"
        },
        "id": "D8ls-T8p2uQo",
        "outputId": "d9de7102-d471-4057-cf73-f58d0155c408"
      },
      "source": [
        "nums.dtype"
      ],
      "execution_count": 52,
      "outputs": [
        {
          "output_type": "execute_result",
          "data": {
            "text/plain": [
              "dtype('<U21')"
            ]
          },
          "metadata": {
            "tags": []
          },
          "execution_count": 52
        }
      ]
    },
    {
      "cell_type": "code",
      "metadata": {
        "id": "-5XgyiVs3FLQ"
      },
      "source": [
        "arr=np.zeros((2,3))"
      ],
      "execution_count": 55,
      "outputs": []
    },
    {
      "cell_type": "code",
      "metadata": {
        "colab": {
          "base_uri": "https://localhost:8080/"
        },
        "id": "ko0VuBO54S9Q",
        "outputId": "77f58c53-6add-485b-b02e-f73f869b95fd"
      },
      "source": [
        "arr"
      ],
      "execution_count": 56,
      "outputs": [
        {
          "output_type": "execute_result",
          "data": {
            "text/plain": [
              "array([[0., 0., 0.],\n",
              "       [0., 0., 0.]])"
            ]
          },
          "metadata": {
            "tags": []
          },
          "execution_count": 56
        }
      ]
    },
    {
      "cell_type": "code",
      "metadata": {
        "colab": {
          "base_uri": "https://localhost:8080/"
        },
        "id": "QdTTdxo_4TZl",
        "outputId": "ff916457-3b58-45e6-802d-b5133490310d"
      },
      "source": [
        "arr=np.ones(4)\n",
        "arr"
      ],
      "execution_count": 58,
      "outputs": [
        {
          "output_type": "execute_result",
          "data": {
            "text/plain": [
              "array([1., 1., 1., 1.])"
            ]
          },
          "metadata": {
            "tags": []
          },
          "execution_count": 58
        }
      ]
    },
    {
      "cell_type": "code",
      "metadata": {
        "colab": {
          "base_uri": "https://localhost:8080/"
        },
        "id": "K7ylB_JP4i88",
        "outputId": "a5d4709e-c628-4490-a7b2-161996f75ae1"
      },
      "source": [
        "arr=np.eye(4)\n",
        "arr"
      ],
      "execution_count": 59,
      "outputs": [
        {
          "output_type": "execute_result",
          "data": {
            "text/plain": [
              "array([[1., 0., 0., 0.],\n",
              "       [0., 1., 0., 0.],\n",
              "       [0., 0., 1., 0.],\n",
              "       [0., 0., 0., 1.]])"
            ]
          },
          "metadata": {
            "tags": []
          },
          "execution_count": 59
        }
      ]
    },
    {
      "cell_type": "code",
      "metadata": {
        "colab": {
          "base_uri": "https://localhost:8080/"
        },
        "id": "8ZgjPgm54o-B",
        "outputId": "422fa438-ac45-4b99-ba19-f290de2351fe"
      },
      "source": [
        "arr=np.eye(3,4)\n",
        "arr"
      ],
      "execution_count": 61,
      "outputs": [
        {
          "output_type": "execute_result",
          "data": {
            "text/plain": [
              "array([[1., 0., 0., 0.],\n",
              "       [0., 1., 0., 0.],\n",
              "       [0., 0., 1., 0.]])"
            ]
          },
          "metadata": {
            "tags": []
          },
          "execution_count": 61
        }
      ]
    },
    {
      "cell_type": "code",
      "metadata": {
        "colab": {
          "base_uri": "https://localhost:8080/"
        },
        "id": "brDmeD6M438S",
        "outputId": "999255f8-8834-4f51-b608-3c5fd0a35cad"
      },
      "source": [
        "arr=np.diag([1,2,3,4])\n",
        "arr"
      ],
      "execution_count": 62,
      "outputs": [
        {
          "output_type": "execute_result",
          "data": {
            "text/plain": [
              "array([[1, 0, 0, 0],\n",
              "       [0, 2, 0, 0],\n",
              "       [0, 0, 3, 0],\n",
              "       [0, 0, 0, 4]])"
            ]
          },
          "metadata": {
            "tags": []
          },
          "execution_count": 62
        }
      ]
    },
    {
      "cell_type": "code",
      "metadata": {
        "colab": {
          "base_uri": "https://localhost:8080/"
        },
        "id": "xeIQaI5g5IQ1",
        "outputId": "a493085a-b10f-4ef9-b4c2-3e0fb278c299"
      },
      "source": [
        "rand_arr=np.random.randint(1,15,4)\n",
        "rand_arr"
      ],
      "execution_count": 66,
      "outputs": [
        {
          "output_type": "execute_result",
          "data": {
            "text/plain": [
              "array([1, 5, 7, 2])"
            ]
          },
          "metadata": {
            "tags": []
          },
          "execution_count": 66
        }
      ]
    },
    {
      "cell_type": "code",
      "metadata": {
        "colab": {
          "base_uri": "https://localhost:8080/"
        },
        "id": "gasTW0Vz6Qm_",
        "outputId": "e20ca27e-9f82-41bf-ea28-101eb192c050"
      },
      "source": [
        "rand_arr=np.random.rand(2,3)\n",
        "rand_arr"
      ],
      "execution_count": 69,
      "outputs": [
        {
          "output_type": "execute_result",
          "data": {
            "text/plain": [
              "array([[0.95897987, 0.55017931, 0.99824582],\n",
              "       [0.6176318 , 0.25093452, 0.21328304]])"
            ]
          },
          "metadata": {
            "tags": []
          },
          "execution_count": 69
        }
      ]
    },
    {
      "cell_type": "code",
      "metadata": {
        "colab": {
          "base_uri": "https://localhost:8080/"
        },
        "id": "xiNG5-TN6egD",
        "outputId": "4eebd6bf-983a-4300-c155-38260676da1c"
      },
      "source": [
        "rand_arr=np.random.randn(15000)\n",
        "rand_arr"
      ],
      "execution_count": 75,
      "outputs": [
        {
          "output_type": "execute_result",
          "data": {
            "text/plain": [
              "array([-0.68497201, -1.1587448 ,  0.70615199, ...,  0.92684517,\n",
              "       -2.07404846, -1.52136276])"
            ]
          },
          "metadata": {
            "tags": []
          },
          "execution_count": 75
        }
      ]
    },
    {
      "cell_type": "code",
      "metadata": {
        "colab": {
          "base_uri": "https://localhost:8080/"
        },
        "id": "zl6NmMy96qRX",
        "outputId": "81c99a8c-5bdf-456e-c29e-86c4723c03fb"
      },
      "source": [
        "np.mean(rand_arr)"
      ],
      "execution_count": 76,
      "outputs": [
        {
          "output_type": "execute_result",
          "data": {
            "text/plain": [
              "-0.0018574579464755738"
            ]
          },
          "metadata": {
            "tags": []
          },
          "execution_count": 76
        }
      ]
    },
    {
      "cell_type": "code",
      "metadata": {
        "colab": {
          "base_uri": "https://localhost:8080/"
        },
        "id": "wrZZ11v863WD",
        "outputId": "3484775a-dc6b-483a-cb0e-8bfa101327b7"
      },
      "source": [
        "arr=np.random.randint(1,100,50)\n",
        "arr"
      ],
      "execution_count": 89,
      "outputs": [
        {
          "output_type": "execute_result",
          "data": {
            "text/plain": [
              "array([76, 54, 42, 37, 83, 56, 95, 33, 13, 75, 97, 78, 75, 21,  6, 31, 90,\n",
              "       60, 92, 76, 35, 64,  4, 19, 24, 86, 99, 52, 65, 60, 81, 13, 51, 80,\n",
              "       84, 67, 20, 39, 31, 71, 23, 59,  2, 41, 90, 75,  6, 12, 40, 93])"
            ]
          },
          "metadata": {
            "tags": []
          },
          "execution_count": 89
        }
      ]
    },
    {
      "cell_type": "code",
      "metadata": {
        "colab": {
          "base_uri": "https://localhost:8080/"
        },
        "id": "6kt8urOulXpb",
        "outputId": "e701cb85-b02d-4472-e357-f037c634f0d1"
      },
      "source": [
        "arr.ndim"
      ],
      "execution_count": 90,
      "outputs": [
        {
          "output_type": "execute_result",
          "data": {
            "text/plain": [
              "1"
            ]
          },
          "metadata": {
            "tags": []
          },
          "execution_count": 90
        }
      ]
    },
    {
      "cell_type": "code",
      "metadata": {
        "colab": {
          "base_uri": "https://localhost:8080/"
        },
        "id": "bXPdz4OQlb8h",
        "outputId": "6b6b6e69-752b-4053-cc25-22a1d3071122"
      },
      "source": [
        "arr.shape"
      ],
      "execution_count": 91,
      "outputs": [
        {
          "output_type": "execute_result",
          "data": {
            "text/plain": [
              "(50,)"
            ]
          },
          "metadata": {
            "tags": []
          },
          "execution_count": 91
        }
      ]
    },
    {
      "cell_type": "code",
      "metadata": {
        "colab": {
          "base_uri": "https://localhost:8080/",
          "height": 165
        },
        "id": "1HEIFdnhlw1a",
        "outputId": "232bb87b-1a9e-45cc-a4b8-caf2685a1abf"
      },
      "source": [
        "arr.reshape(2,10).shape"
      ],
      "execution_count": 92,
      "outputs": [
        {
          "output_type": "error",
          "ename": "ValueError",
          "evalue": "ignored",
          "traceback": [
            "\u001b[0;31m---------------------------------------------------------------------------\u001b[0m",
            "\u001b[0;31mValueError\u001b[0m                                Traceback (most recent call last)",
            "\u001b[0;32m<ipython-input-92-879a53be4bae>\u001b[0m in \u001b[0;36m<module>\u001b[0;34m()\u001b[0m\n\u001b[0;32m----> 1\u001b[0;31m \u001b[0marr\u001b[0m\u001b[0;34m.\u001b[0m\u001b[0mreshape\u001b[0m\u001b[0;34m(\u001b[0m\u001b[0;36m2\u001b[0m\u001b[0;34m,\u001b[0m\u001b[0;36m10\u001b[0m\u001b[0;34m)\u001b[0m\u001b[0;34m.\u001b[0m\u001b[0mshape\u001b[0m\u001b[0;34m\u001b[0m\u001b[0;34m\u001b[0m\u001b[0m\n\u001b[0m",
            "\u001b[0;31mValueError\u001b[0m: cannot reshape array of size 50 into shape (2,10)"
          ]
        }
      ]
    },
    {
      "cell_type": "code",
      "metadata": {
        "colab": {
          "base_uri": "https://localhost:8080/",
          "height": 165
        },
        "id": "Jqff3ne4mBef",
        "outputId": "2c58f6db-b69c-456d-afbe-8264a964ce13"
      },
      "source": [
        "arr.reshape(2,10).ndim"
      ],
      "execution_count": 93,
      "outputs": [
        {
          "output_type": "error",
          "ename": "ValueError",
          "evalue": "ignored",
          "traceback": [
            "\u001b[0;31m---------------------------------------------------------------------------\u001b[0m",
            "\u001b[0;31mValueError\u001b[0m                                Traceback (most recent call last)",
            "\u001b[0;32m<ipython-input-93-cf0421cc035a>\u001b[0m in \u001b[0;36m<module>\u001b[0;34m()\u001b[0m\n\u001b[0;32m----> 1\u001b[0;31m \u001b[0marr\u001b[0m\u001b[0;34m.\u001b[0m\u001b[0mreshape\u001b[0m\u001b[0;34m(\u001b[0m\u001b[0;36m2\u001b[0m\u001b[0;34m,\u001b[0m\u001b[0;36m10\u001b[0m\u001b[0;34m)\u001b[0m\u001b[0;34m.\u001b[0m\u001b[0mndim\u001b[0m\u001b[0;34m\u001b[0m\u001b[0;34m\u001b[0m\u001b[0m\n\u001b[0m",
            "\u001b[0;31mValueError\u001b[0m: cannot reshape array of size 50 into shape (2,10)"
          ]
        }
      ]
    },
    {
      "cell_type": "code",
      "metadata": {
        "id": "N7Kv75MhmHNg"
      },
      "source": [
        "arr.reshape(2,10)"
      ],
      "execution_count": null,
      "outputs": []
    },
    {
      "cell_type": "code",
      "metadata": {
        "colab": {
          "base_uri": "https://localhost:8080/",
          "height": 165
        },
        "id": "hwJ48ibjmJM0",
        "outputId": "2e98e4a6-0fb7-4e51-92ed-23d383072436"
      },
      "source": [
        "arr.reshape(20)"
      ],
      "execution_count": 94,
      "outputs": [
        {
          "output_type": "error",
          "ename": "ValueError",
          "evalue": "ignored",
          "traceback": [
            "\u001b[0;31m---------------------------------------------------------------------------\u001b[0m",
            "\u001b[0;31mValueError\u001b[0m                                Traceback (most recent call last)",
            "\u001b[0;32m<ipython-input-94-13b4ec3675de>\u001b[0m in \u001b[0;36m<module>\u001b[0;34m()\u001b[0m\n\u001b[0;32m----> 1\u001b[0;31m \u001b[0marr\u001b[0m\u001b[0;34m.\u001b[0m\u001b[0mreshape\u001b[0m\u001b[0;34m(\u001b[0m\u001b[0;36m20\u001b[0m\u001b[0;34m)\u001b[0m\u001b[0;34m\u001b[0m\u001b[0;34m\u001b[0m\u001b[0m\n\u001b[0m",
            "\u001b[0;31mValueError\u001b[0m: cannot reshape array of size 50 into shape (20,)"
          ]
        }
      ]
    },
    {
      "cell_type": "code",
      "metadata": {
        "colab": {
          "base_uri": "https://localhost:8080/"
        },
        "id": "UyJp4_lCmOHN",
        "outputId": "8d410b02-1c8b-4fe9-b8a1-842ebfcd85aa"
      },
      "source": [
        "arr"
      ],
      "execution_count": 95,
      "outputs": [
        {
          "output_type": "execute_result",
          "data": {
            "text/plain": [
              "array([76, 54, 42, 37, 83, 56, 95, 33, 13, 75, 97, 78, 75, 21,  6, 31, 90,\n",
              "       60, 92, 76, 35, 64,  4, 19, 24, 86, 99, 52, 65, 60, 81, 13, 51, 80,\n",
              "       84, 67, 20, 39, 31, 71, 23, 59,  2, 41, 90, 75,  6, 12, 40, 93])"
            ]
          },
          "metadata": {
            "tags": []
          },
          "execution_count": 95
        }
      ]
    },
    {
      "cell_type": "code",
      "metadata": {
        "id": "0BgmiOo8mOc5"
      },
      "source": [
        "arr=arr.reshape(2,5,5)"
      ],
      "execution_count": 101,
      "outputs": []
    },
    {
      "cell_type": "code",
      "metadata": {
        "colab": {
          "base_uri": "https://localhost:8080/"
        },
        "id": "1SukxNhYmVHg",
        "outputId": "f8a52e9f-a26f-49e7-b2d5-9d610141810f"
      },
      "source": [
        "arr"
      ],
      "execution_count": 102,
      "outputs": [
        {
          "output_type": "execute_result",
          "data": {
            "text/plain": [
              "array([[[76, 54, 42, 37, 83],\n",
              "        [56, 95, 33, 13, 75],\n",
              "        [97, 78, 75, 21,  6],\n",
              "        [31, 90, 60, 92, 76],\n",
              "        [35, 64,  4, 19, 24]],\n",
              "\n",
              "       [[86, 99, 52, 65, 60],\n",
              "        [81, 13, 51, 80, 84],\n",
              "        [67, 20, 39, 31, 71],\n",
              "        [23, 59,  2, 41, 90],\n",
              "        [75,  6, 12, 40, 93]]])"
            ]
          },
          "metadata": {
            "tags": []
          },
          "execution_count": 102
        }
      ]
    },
    {
      "cell_type": "code",
      "metadata": {
        "colab": {
          "base_uri": "https://localhost:8080/"
        },
        "id": "cv6NIW80mZe2",
        "outputId": "94ae58d1-86d7-4369-e366-1d7b870a42f3"
      },
      "source": [
        "arr.ndim"
      ],
      "execution_count": 103,
      "outputs": [
        {
          "output_type": "execute_result",
          "data": {
            "text/plain": [
              "3"
            ]
          },
          "metadata": {
            "tags": []
          },
          "execution_count": 103
        }
      ]
    },
    {
      "cell_type": "code",
      "metadata": {
        "colab": {
          "base_uri": "https://localhost:8080/"
        },
        "id": "93udJjBmmZ8V",
        "outputId": "ea4d27c5-3d04-4495-bfb6-151815c3070e"
      },
      "source": [
        "arr=np.arange(1,111)\n",
        "arr"
      ],
      "execution_count": 114,
      "outputs": [
        {
          "output_type": "execute_result",
          "data": {
            "text/plain": [
              "array([  1,   2,   3,   4,   5,   6,   7,   8,   9,  10,  11,  12,  13,\n",
              "        14,  15,  16,  17,  18,  19,  20,  21,  22,  23,  24,  25,  26,\n",
              "        27,  28,  29,  30,  31,  32,  33,  34,  35,  36,  37,  38,  39,\n",
              "        40,  41,  42,  43,  44,  45,  46,  47,  48,  49,  50,  51,  52,\n",
              "        53,  54,  55,  56,  57,  58,  59,  60,  61,  62,  63,  64,  65,\n",
              "        66,  67,  68,  69,  70,  71,  72,  73,  74,  75,  76,  77,  78,\n",
              "        79,  80,  81,  82,  83,  84,  85,  86,  87,  88,  89,  90,  91,\n",
              "        92,  93,  94,  95,  96,  97,  98,  99, 100, 101, 102, 103, 104,\n",
              "       105, 106, 107, 108, 109, 110])"
            ]
          },
          "metadata": {
            "tags": []
          },
          "execution_count": 114
        }
      ]
    },
    {
      "cell_type": "code",
      "metadata": {
        "id": "hr-x0iYUmvIp"
      },
      "source": [
        "arr=arr.reshape(5,-1)"
      ],
      "execution_count": 126,
      "outputs": []
    },
    {
      "cell_type": "code",
      "metadata": {
        "colab": {
          "base_uri": "https://localhost:8080/"
        },
        "id": "s__TxdbQmyRr",
        "outputId": "09468838-237f-4f55-8c3c-555d7cf32ac1"
      },
      "source": [
        "arr"
      ],
      "execution_count": 127,
      "outputs": [
        {
          "output_type": "execute_result",
          "data": {
            "text/plain": [
              "array([[  1,   2,   3,   4,   5,   6,   7,   8,   9,  10,  11,  12,  13,\n",
              "         14,  15,  16,  17,  18,  19,  20,  21,  22],\n",
              "       [ 23,  24,  25,  26,  27,  28,  29,  30,  31,  32,  33,  34,  35,\n",
              "         36,  37,  38,  39,  40,  41,  42,  43,  44],\n",
              "       [ 45,  46,  47,  48,  49,  50,  51,  52,  53,  54,  55,  56,  57,\n",
              "         58,  59,  60,  61,  62,  63,  64,  65,  66],\n",
              "       [ 67,  68,  69,  70,  71,  72,  73,  74,  75,  76,  77,  78,  79,\n",
              "         80,  81,  82,  83,  84,  85,  86,  87,  88],\n",
              "       [ 89,  90,  91,  92,  93,  94,  95,  96,  97,  98,  99, 100, 101,\n",
              "        102, 103, 104, 105, 106, 107, 108, 109, 110]])"
            ]
          },
          "metadata": {
            "tags": []
          },
          "execution_count": 127
        }
      ]
    },
    {
      "cell_type": "code",
      "metadata": {
        "colab": {
          "base_uri": "https://localhost:8080/"
        },
        "id": "uzRqUpt1mytS",
        "outputId": "acfab84e-ce3d-4c1e-d964-dd031d69d42c"
      },
      "source": [
        "np.random.seed(12)\n",
        "arr=np.random.randint(1,101,15).reshape(3,5)\n",
        "arr"
      ],
      "execution_count": 137,
      "outputs": [
        {
          "output_type": "execute_result",
          "data": {
            "text/plain": [
              "array([[76, 28,  7,  3,  4],\n",
              "       [68, 77, 49, 23, 50],\n",
              "       [53,  6, 14, 90, 35]])"
            ]
          },
          "metadata": {
            "tags": []
          },
          "execution_count": 137
        }
      ]
    },
    {
      "cell_type": "code",
      "metadata": {
        "colab": {
          "base_uri": "https://localhost:8080/"
        },
        "id": "gXOP-MdSoB3v",
        "outputId": "c8a0316d-ebfa-4c39-ca22-4ff0c70f2174"
      },
      "source": [
        "arr"
      ],
      "execution_count": 138,
      "outputs": [
        {
          "output_type": "execute_result",
          "data": {
            "text/plain": [
              "array([[76, 28,  7,  3,  4],\n",
              "       [68, 77, 49, 23, 50],\n",
              "       [53,  6, 14, 90, 35]])"
            ]
          },
          "metadata": {
            "tags": []
          },
          "execution_count": 138
        }
      ]
    },
    {
      "cell_type": "code",
      "metadata": {
        "colab": {
          "base_uri": "https://localhost:8080/"
        },
        "id": "gVBq831GoJdN",
        "outputId": "b647f557-5d5c-4866-e7ca-e8369069d9c8"
      },
      "source": [
        "arr.size"
      ],
      "execution_count": 139,
      "outputs": [
        {
          "output_type": "execute_result",
          "data": {
            "text/plain": [
              "15"
            ]
          },
          "metadata": {
            "tags": []
          },
          "execution_count": 139
        }
      ]
    },
    {
      "cell_type": "code",
      "metadata": {
        "colab": {
          "base_uri": "https://localhost:8080/"
        },
        "id": "ZfMWDhKCoYeZ",
        "outputId": "f1d964de-d89b-461b-c98b-7428ae2b8523"
      },
      "source": [
        "arr=np.array([5,10,15,20,25])\n",
        "arr"
      ],
      "execution_count": 140,
      "outputs": [
        {
          "output_type": "execute_result",
          "data": {
            "text/plain": [
              "array([ 5, 10, 15, 20, 25])"
            ]
          },
          "metadata": {
            "tags": []
          },
          "execution_count": 140
        }
      ]
    },
    {
      "cell_type": "code",
      "metadata": {
        "colab": {
          "base_uri": "https://localhost:8080/"
        },
        "id": "mM3d4zjLo0DU",
        "outputId": "e3131744-273e-42a6-e7dc-fc88a7fb1213"
      },
      "source": [
        "arr[0]"
      ],
      "execution_count": 142,
      "outputs": [
        {
          "output_type": "execute_result",
          "data": {
            "text/plain": [
              "5"
            ]
          },
          "metadata": {
            "tags": []
          },
          "execution_count": 142
        }
      ]
    },
    {
      "cell_type": "code",
      "metadata": {
        "colab": {
          "base_uri": "https://localhost:8080/"
        },
        "id": "18Te3vUeo_j0",
        "outputId": "dc88c853-2e35-412a-bafc-0e5ca2a40ce9"
      },
      "source": [
        "arr[1]"
      ],
      "execution_count": 143,
      "outputs": [
        {
          "output_type": "execute_result",
          "data": {
            "text/plain": [
              "10"
            ]
          },
          "metadata": {
            "tags": []
          },
          "execution_count": 143
        }
      ]
    },
    {
      "cell_type": "code",
      "metadata": {
        "colab": {
          "base_uri": "https://localhost:8080/"
        },
        "id": "QoksYz7ZpA6t",
        "outputId": "a0f40a2b-c035-4c8c-a4ff-c107ba1dc5dc"
      },
      "source": [
        "arr[4]"
      ],
      "execution_count": 144,
      "outputs": [
        {
          "output_type": "execute_result",
          "data": {
            "text/plain": [
              "25"
            ]
          },
          "metadata": {
            "tags": []
          },
          "execution_count": 144
        }
      ]
    },
    {
      "cell_type": "code",
      "metadata": {
        "colab": {
          "base_uri": "https://localhost:8080/",
          "height": 165
        },
        "id": "uWaLfa6OpGrr",
        "outputId": "60dddb0a-8b01-4893-813c-0d51d5254a0c"
      },
      "source": [
        "arr[5]"
      ],
      "execution_count": 145,
      "outputs": [
        {
          "output_type": "error",
          "ename": "IndexError",
          "evalue": "ignored",
          "traceback": [
            "\u001b[0;31m---------------------------------------------------------------------------\u001b[0m",
            "\u001b[0;31mIndexError\u001b[0m                                Traceback (most recent call last)",
            "\u001b[0;32m<ipython-input-145-604daf0e837f>\u001b[0m in \u001b[0;36m<module>\u001b[0;34m()\u001b[0m\n\u001b[0;32m----> 1\u001b[0;31m \u001b[0marr\u001b[0m\u001b[0;34m[\u001b[0m\u001b[0;36m5\u001b[0m\u001b[0;34m]\u001b[0m\u001b[0;34m\u001b[0m\u001b[0;34m\u001b[0m\u001b[0m\n\u001b[0m",
            "\u001b[0;31mIndexError\u001b[0m: index 5 is out of bounds for axis 0 with size 5"
          ]
        }
      ]
    },
    {
      "cell_type": "code",
      "metadata": {
        "colab": {
          "base_uri": "https://localhost:8080/"
        },
        "id": "8YeuVlndpHMV",
        "outputId": "a44db4b0-1745-4663-fbc4-f6079b48f78c"
      },
      "source": [
        "arr"
      ],
      "execution_count": 146,
      "outputs": [
        {
          "output_type": "execute_result",
          "data": {
            "text/plain": [
              "array([ 5, 10, 15, 20, 25])"
            ]
          },
          "metadata": {
            "tags": []
          },
          "execution_count": 146
        }
      ]
    },
    {
      "cell_type": "code",
      "metadata": {
        "colab": {
          "base_uri": "https://localhost:8080/"
        },
        "id": "wtuIqnZVpKdV",
        "outputId": "0ff626a1-f0af-4714-afdb-913fe47f37a5"
      },
      "source": [
        "arr[-1]"
      ],
      "execution_count": 147,
      "outputs": [
        {
          "output_type": "execute_result",
          "data": {
            "text/plain": [
              "25"
            ]
          },
          "metadata": {
            "tags": []
          },
          "execution_count": 147
        }
      ]
    },
    {
      "cell_type": "code",
      "metadata": {
        "colab": {
          "base_uri": "https://localhost:8080/"
        },
        "id": "Fj-ywU5UpL94",
        "outputId": "70945842-ad1a-4bae-d786-bcd905cfed33"
      },
      "source": [
        "arr[-4]"
      ],
      "execution_count": 148,
      "outputs": [
        {
          "output_type": "execute_result",
          "data": {
            "text/plain": [
              "10"
            ]
          },
          "metadata": {
            "tags": []
          },
          "execution_count": 148
        }
      ]
    },
    {
      "cell_type": "code",
      "metadata": {
        "colab": {
          "base_uri": "https://localhost:8080/",
          "height": 165
        },
        "id": "XDa6LpPzpSjX",
        "outputId": "310f1c84-6fd4-45a6-b8be-e5b69e10c827"
      },
      "source": [
        "arr[5]"
      ],
      "execution_count": 149,
      "outputs": [
        {
          "output_type": "error",
          "ename": "IndexError",
          "evalue": "ignored",
          "traceback": [
            "\u001b[0;31m---------------------------------------------------------------------------\u001b[0m",
            "\u001b[0;31mIndexError\u001b[0m                                Traceback (most recent call last)",
            "\u001b[0;32m<ipython-input-149-604daf0e837f>\u001b[0m in \u001b[0;36m<module>\u001b[0;34m()\u001b[0m\n\u001b[0;32m----> 1\u001b[0;31m \u001b[0marr\u001b[0m\u001b[0;34m[\u001b[0m\u001b[0;36m5\u001b[0m\u001b[0;34m]\u001b[0m\u001b[0;34m\u001b[0m\u001b[0;34m\u001b[0m\u001b[0m\n\u001b[0m",
            "\u001b[0;31mIndexError\u001b[0m: index 5 is out of bounds for axis 0 with size 5"
          ]
        }
      ]
    },
    {
      "cell_type": "code",
      "metadata": {
        "colab": {
          "base_uri": "https://localhost:8080/"
        },
        "id": "6G8XPLPRpVom",
        "outputId": "64cbdba7-ae61-4065-fb71-acfefaa0c654"
      },
      "source": [
        "arr[0:3]"
      ],
      "execution_count": 150,
      "outputs": [
        {
          "output_type": "execute_result",
          "data": {
            "text/plain": [
              "array([ 5, 10, 15])"
            ]
          },
          "metadata": {
            "tags": []
          },
          "execution_count": 150
        }
      ]
    },
    {
      "cell_type": "code",
      "metadata": {
        "colab": {
          "base_uri": "https://localhost:8080/"
        },
        "id": "mcbWKMk_pZPp",
        "outputId": "6cf4655e-b6b6-44c7-abd8-240a1c6d593a"
      },
      "source": [
        "arr"
      ],
      "execution_count": 151,
      "outputs": [
        {
          "output_type": "execute_result",
          "data": {
            "text/plain": [
              "array([ 5, 10, 15, 20, 25])"
            ]
          },
          "metadata": {
            "tags": []
          },
          "execution_count": 151
        }
      ]
    },
    {
      "cell_type": "code",
      "metadata": {
        "colab": {
          "base_uri": "https://localhost:8080/"
        },
        "id": "Eae02c6NpaMc",
        "outputId": "7295fead-c027-4c9d-ed78-ce6a0b1dcade"
      },
      "source": [
        "arr[0:2]"
      ],
      "execution_count": 152,
      "outputs": [
        {
          "output_type": "execute_result",
          "data": {
            "text/plain": [
              "array([ 5, 10])"
            ]
          },
          "metadata": {
            "tags": []
          },
          "execution_count": 152
        }
      ]
    },
    {
      "cell_type": "code",
      "metadata": {
        "colab": {
          "base_uri": "https://localhost:8080/"
        },
        "id": "y5cgv76apjYM",
        "outputId": "722ac4da-d03b-45b5-ccb1-cab32a580181"
      },
      "source": [
        "arr[-1]"
      ],
      "execution_count": 153,
      "outputs": [
        {
          "output_type": "execute_result",
          "data": {
            "text/plain": [
              "25"
            ]
          },
          "metadata": {
            "tags": []
          },
          "execution_count": 153
        }
      ]
    },
    {
      "cell_type": "code",
      "metadata": {
        "colab": {
          "base_uri": "https://localhost:8080/"
        },
        "id": "enC2_vtepyZQ",
        "outputId": "06f25262-8669-460c-8f37-c0939a91dc40"
      },
      "source": [
        "arr[-4]"
      ],
      "execution_count": 154,
      "outputs": [
        {
          "output_type": "execute_result",
          "data": {
            "text/plain": [
              "10"
            ]
          },
          "metadata": {
            "tags": []
          },
          "execution_count": 154
        }
      ]
    },
    {
      "cell_type": "code",
      "metadata": {
        "colab": {
          "base_uri": "https://localhost:8080/"
        },
        "id": "0v7FqhX8py_K",
        "outputId": "c1cad8e4-d926-440d-e93a-b75ea61ae907"
      },
      "source": [
        "arr[:]"
      ],
      "execution_count": 155,
      "outputs": [
        {
          "output_type": "execute_result",
          "data": {
            "text/plain": [
              "array([ 5, 10, 15, 20, 25])"
            ]
          },
          "metadata": {
            "tags": []
          },
          "execution_count": 155
        }
      ]
    },
    {
      "cell_type": "code",
      "metadata": {
        "colab": {
          "base_uri": "https://localhost:8080/"
        },
        "id": "Shfpy5FepzkP",
        "outputId": "e40fb8c6-e0cd-4b9b-ef21-b9f35cc52257"
      },
      "source": [
        "arr[1:]"
      ],
      "execution_count": 156,
      "outputs": [
        {
          "output_type": "execute_result",
          "data": {
            "text/plain": [
              "array([10, 15, 20, 25])"
            ]
          },
          "metadata": {
            "tags": []
          },
          "execution_count": 156
        }
      ]
    },
    {
      "cell_type": "code",
      "metadata": {
        "colab": {
          "base_uri": "https://localhost:8080/"
        },
        "id": "Qmu9XQibp0wT",
        "outputId": "8735edaf-4494-4a0f-eda4-774ba1515f7d"
      },
      "source": [
        "arr[0:3]"
      ],
      "execution_count": 157,
      "outputs": [
        {
          "output_type": "execute_result",
          "data": {
            "text/plain": [
              "array([ 5, 10, 15])"
            ]
          },
          "metadata": {
            "tags": []
          },
          "execution_count": 157
        }
      ]
    },
    {
      "cell_type": "code",
      "metadata": {
        "colab": {
          "base_uri": "https://localhost:8080/"
        },
        "id": "HshyNpxCp2FQ",
        "outputId": "3c4ba78b-eade-4de2-fd96-d93a9c2d808e"
      },
      "source": [
        "arr[:2]"
      ],
      "execution_count": 158,
      "outputs": [
        {
          "output_type": "execute_result",
          "data": {
            "text/plain": [
              "array([ 5, 10])"
            ]
          },
          "metadata": {
            "tags": []
          },
          "execution_count": 158
        }
      ]
    },
    {
      "cell_type": "code",
      "metadata": {
        "colab": {
          "base_uri": "https://localhost:8080/"
        },
        "id": "rQG3tU1Zp3c5",
        "outputId": "c57e82cf-ef77-4568-ee55-f44fed9f6bdb"
      },
      "source": [
        "arr"
      ],
      "execution_count": 159,
      "outputs": [
        {
          "output_type": "execute_result",
          "data": {
            "text/plain": [
              "array([ 5, 10, 15, 20, 25])"
            ]
          },
          "metadata": {
            "tags": []
          },
          "execution_count": 159
        }
      ]
    },
    {
      "cell_type": "code",
      "metadata": {
        "colab": {
          "base_uri": "https://localhost:8080/"
        },
        "id": "PEtj1-WPp6Xz",
        "outputId": "bbaf3ecd-b43e-4c2f-9248-a1cc597139a0"
      },
      "source": [
        "arr[-3:]"
      ],
      "execution_count": 160,
      "outputs": [
        {
          "output_type": "execute_result",
          "data": {
            "text/plain": [
              "array([15, 20, 25])"
            ]
          },
          "metadata": {
            "tags": []
          },
          "execution_count": 160
        }
      ]
    },
    {
      "cell_type": "code",
      "metadata": {
        "colab": {
          "base_uri": "https://localhost:8080/"
        },
        "id": "8Qbin_yQp-2D",
        "outputId": "ffbfcaff-684f-453b-9a5e-576d71782140"
      },
      "source": [
        "arr[:]"
      ],
      "execution_count": 161,
      "outputs": [
        {
          "output_type": "execute_result",
          "data": {
            "text/plain": [
              "array([ 5, 10, 15, 20, 25])"
            ]
          },
          "metadata": {
            "tags": []
          },
          "execution_count": 161
        }
      ]
    },
    {
      "cell_type": "code",
      "metadata": {
        "colab": {
          "base_uri": "https://localhost:8080/"
        },
        "id": "Od-xFUfVqB7C",
        "outputId": "9b627159-c6d7-49e2-e4ce-bf0f47da3e46"
      },
      "source": [
        "arr[1:4]"
      ],
      "execution_count": 162,
      "outputs": [
        {
          "output_type": "execute_result",
          "data": {
            "text/plain": [
              "array([10, 15, 20])"
            ]
          },
          "metadata": {
            "tags": []
          },
          "execution_count": 162
        }
      ]
    },
    {
      "cell_type": "code",
      "metadata": {
        "colab": {
          "base_uri": "https://localhost:8080/"
        },
        "id": "-B_rnxh_qNsJ",
        "outputId": "a30f9d23-7165-4aa0-c977-3ede0c96ec7a"
      },
      "source": [
        "arr[1:4:1]"
      ],
      "execution_count": 164,
      "outputs": [
        {
          "output_type": "execute_result",
          "data": {
            "text/plain": [
              "array([10, 15, 20])"
            ]
          },
          "metadata": {
            "tags": []
          },
          "execution_count": 164
        }
      ]
    },
    {
      "cell_type": "code",
      "metadata": {
        "colab": {
          "base_uri": "https://localhost:8080/"
        },
        "id": "bu2HxOIcqQ88",
        "outputId": "2164363d-dc65-4ccd-df41-71ec609e7b3a"
      },
      "source": [
        "arr[1:4:2]"
      ],
      "execution_count": 165,
      "outputs": [
        {
          "output_type": "execute_result",
          "data": {
            "text/plain": [
              "array([10, 20])"
            ]
          },
          "metadata": {
            "tags": []
          },
          "execution_count": 165
        }
      ]
    },
    {
      "cell_type": "code",
      "metadata": {
        "colab": {
          "base_uri": "https://localhost:8080/"
        },
        "id": "OrwafxpdqWdm",
        "outputId": "1d157d78-30ce-46f9-a1c6-423d2014d768"
      },
      "source": [
        "arr[::-1]"
      ],
      "execution_count": 166,
      "outputs": [
        {
          "output_type": "execute_result",
          "data": {
            "text/plain": [
              "array([25, 20, 15, 10,  5])"
            ]
          },
          "metadata": {
            "tags": []
          },
          "execution_count": 166
        }
      ]
    },
    {
      "cell_type": "code",
      "metadata": {
        "colab": {
          "base_uri": "https://localhost:8080/"
        },
        "id": "GkDKTKH6qb_k",
        "outputId": "e5300a83-859e-43fc-bc83-7d28b37b0b8b"
      },
      "source": [
        "matrix=np.array([[5,10,15],[20,25,30],[35,40,45]])\n",
        "matrix"
      ],
      "execution_count": 167,
      "outputs": [
        {
          "output_type": "execute_result",
          "data": {
            "text/plain": [
              "array([[ 5, 10, 15],\n",
              "       [20, 25, 30],\n",
              "       [35, 40, 45]])"
            ]
          },
          "metadata": {
            "tags": []
          },
          "execution_count": 167
        }
      ]
    },
    {
      "cell_type": "code",
      "metadata": {
        "colab": {
          "base_uri": "https://localhost:8080/"
        },
        "id": "MkFW_9JbtylF",
        "outputId": "98340874-c3fb-4bad-bd76-98f2c758dfd3"
      },
      "source": [
        "matrix[0][1]"
      ],
      "execution_count": 168,
      "outputs": [
        {
          "output_type": "execute_result",
          "data": {
            "text/plain": [
              "10"
            ]
          },
          "metadata": {
            "tags": []
          },
          "execution_count": 168
        }
      ]
    },
    {
      "cell_type": "code",
      "metadata": {
        "colab": {
          "base_uri": "https://localhost:8080/"
        },
        "id": "enbjtzi7t5Ll",
        "outputId": "8f02b627-f398-40ab-e387-4007a6017a62"
      },
      "source": [
        "matrix[1][1]"
      ],
      "execution_count": 169,
      "outputs": [
        {
          "output_type": "execute_result",
          "data": {
            "text/plain": [
              "25"
            ]
          },
          "metadata": {
            "tags": []
          },
          "execution_count": 169
        }
      ]
    },
    {
      "cell_type": "code",
      "metadata": {
        "colab": {
          "base_uri": "https://localhost:8080/"
        },
        "id": "arr3_XJ7uGO6",
        "outputId": "aeaff332-80b5-449e-a552-31a3149db033"
      },
      "source": [
        "matrix[[0,1]]"
      ],
      "execution_count": 171,
      "outputs": [
        {
          "output_type": "execute_result",
          "data": {
            "text/plain": [
              "array([[ 5, 10, 15],\n",
              "       [20, 25, 30]])"
            ]
          },
          "metadata": {
            "tags": []
          },
          "execution_count": 171
        }
      ]
    },
    {
      "cell_type": "code",
      "metadata": {
        "colab": {
          "base_uri": "https://localhost:8080/"
        },
        "id": "b01YPcXcua7A",
        "outputId": "69ffdda5-a163-44dc-bd5b-9ad9b547f0c2"
      },
      "source": [
        "matrix[0,1]"
      ],
      "execution_count": 172,
      "outputs": [
        {
          "output_type": "execute_result",
          "data": {
            "text/plain": [
              "10"
            ]
          },
          "metadata": {
            "tags": []
          },
          "execution_count": 172
        }
      ]
    },
    {
      "cell_type": "code",
      "metadata": {
        "colab": {
          "base_uri": "https://localhost:8080/"
        },
        "id": "wNoX5jlBuiXP",
        "outputId": "8960457d-762e-43b6-f919-661f4f5f581b"
      },
      "source": [
        "matrix[2,2]"
      ],
      "execution_count": 173,
      "outputs": [
        {
          "output_type": "execute_result",
          "data": {
            "text/plain": [
              "45"
            ]
          },
          "metadata": {
            "tags": []
          },
          "execution_count": 173
        }
      ]
    },
    {
      "cell_type": "code",
      "metadata": {
        "colab": {
          "base_uri": "https://localhost:8080/"
        },
        "id": "Ww5MrRl2uljj",
        "outputId": "4e31e705-7611-4611-d602-ca061ef2ecd5"
      },
      "source": [
        "matrix"
      ],
      "execution_count": 174,
      "outputs": [
        {
          "output_type": "execute_result",
          "data": {
            "text/plain": [
              "array([[ 5, 10, 15],\n",
              "       [20, 25, 30],\n",
              "       [35, 40, 45]])"
            ]
          },
          "metadata": {
            "tags": []
          },
          "execution_count": 174
        }
      ]
    },
    {
      "cell_type": "code",
      "metadata": {
        "colab": {
          "base_uri": "https://localhost:8080/"
        },
        "id": "BsoTuSqBur4c",
        "outputId": "2ad096c3-2b02-4245-cd6b-85a4ea9b5bc3"
      },
      "source": [
        "matrix[:2,0:2]"
      ],
      "execution_count": 179,
      "outputs": [
        {
          "output_type": "execute_result",
          "data": {
            "text/plain": [
              "array([[ 5, 10],\n",
              "       [20, 25]])"
            ]
          },
          "metadata": {
            "tags": []
          },
          "execution_count": 179
        }
      ]
    },
    {
      "cell_type": "code",
      "metadata": {
        "colab": {
          "base_uri": "https://localhost:8080/"
        },
        "id": "spCXTmLCu1yG",
        "outputId": "86acd4d5-4039-48a3-a973-b4132691140c"
      },
      "source": [
        "matrix"
      ],
      "execution_count": 180,
      "outputs": [
        {
          "output_type": "execute_result",
          "data": {
            "text/plain": [
              "array([[ 5, 10, 15],\n",
              "       [20, 25, 30],\n",
              "       [35, 40, 45]])"
            ]
          },
          "metadata": {
            "tags": []
          },
          "execution_count": 180
        }
      ]
    },
    {
      "cell_type": "code",
      "metadata": {
        "colab": {
          "base_uri": "https://localhost:8080/"
        },
        "id": "B8c6cQzjvTwL",
        "outputId": "5443da63-6379-4d83-b955-a3840898bd3a"
      },
      "source": [
        "matrix[1:,1:]"
      ],
      "execution_count": 187,
      "outputs": [
        {
          "output_type": "execute_result",
          "data": {
            "text/plain": [
              "array([[25, 30],\n",
              "       [40, 45]])"
            ]
          },
          "metadata": {
            "tags": []
          },
          "execution_count": 187
        }
      ]
    },
    {
      "cell_type": "code",
      "metadata": {
        "id": "hPFGw4MNvZVt"
      },
      "source": [
        "np.random.seed(123)\n",
        "matrix2=np.random.randint(1,101,25).reshape(5,5)"
      ],
      "execution_count": 188,
      "outputs": []
    },
    {
      "cell_type": "code",
      "metadata": {
        "colab": {
          "base_uri": "https://localhost:8080/"
        },
        "id": "EFZElVcswyf0",
        "outputId": "36740751-a7f1-4327-b1be-50e9ffed3236"
      },
      "source": [
        "matrix2"
      ],
      "execution_count": 189,
      "outputs": [
        {
          "output_type": "execute_result",
          "data": {
            "text/plain": [
              "array([[67, 93, 99, 18, 84],\n",
              "       [58, 87, 98, 97, 48],\n",
              "       [74, 33, 47, 97, 26],\n",
              "       [84, 79, 37, 97, 81],\n",
              "       [69, 50, 56, 68,  3]])"
            ]
          },
          "metadata": {
            "tags": []
          },
          "execution_count": 189
        }
      ]
    },
    {
      "cell_type": "code",
      "metadata": {
        "colab": {
          "base_uri": "https://localhost:8080/"
        },
        "id": "jna1_LwUwz9W",
        "outputId": "4183ed71-d208-4376-e4ea-bb88fff3de8f"
      },
      "source": [
        "matrix2[1:4,1:4]"
      ],
      "execution_count": 190,
      "outputs": [
        {
          "output_type": "execute_result",
          "data": {
            "text/plain": [
              "array([[87, 98, 97],\n",
              "       [33, 47, 97],\n",
              "       [79, 37, 97]])"
            ]
          },
          "metadata": {
            "tags": []
          },
          "execution_count": 190
        }
      ]
    },
    {
      "cell_type": "code",
      "metadata": {
        "colab": {
          "base_uri": "https://localhost:8080/"
        },
        "id": "5r62vzyuxBCH",
        "outputId": "bec6ce2c-e218-4809-cc29-7a5a8ee88863"
      },
      "source": [
        "matrix2[2:,2:]"
      ],
      "execution_count": 194,
      "outputs": [
        {
          "output_type": "execute_result",
          "data": {
            "text/plain": [
              "array([[47, 97, 26],\n",
              "       [37, 97, 81],\n",
              "       [56, 68,  3]])"
            ]
          },
          "metadata": {
            "tags": []
          },
          "execution_count": 194
        }
      ]
    },
    {
      "cell_type": "code",
      "metadata": {
        "id": "uksHkJdzxgZE"
      },
      "source": [
        " arr=np.array([5,10,15,20,25,30])"
      ],
      "execution_count": 214,
      "outputs": []
    },
    {
      "cell_type": "code",
      "metadata": {
        "id": "HNXlCN2kyNiy"
      },
      "source": [
        "sliced_arr=arr[2:5].copy()"
      ],
      "execution_count": 215,
      "outputs": []
    },
    {
      "cell_type": "code",
      "metadata": {
        "colab": {
          "base_uri": "https://localhost:8080/"
        },
        "id": "d_rivTTyyS2i",
        "outputId": "300528a1-032b-4902-92b8-eb54f2dad295"
      },
      "source": [
        "sliced_arr"
      ],
      "execution_count": 216,
      "outputs": [
        {
          "output_type": "execute_result",
          "data": {
            "text/plain": [
              "array([15, 20, 25])"
            ]
          },
          "metadata": {
            "tags": []
          },
          "execution_count": 216
        }
      ]
    },
    {
      "cell_type": "code",
      "metadata": {
        "id": "c9WGGcbhyT3p"
      },
      "source": [
        "arr[:2]=0"
      ],
      "execution_count": 217,
      "outputs": []
    },
    {
      "cell_type": "code",
      "metadata": {
        "colab": {
          "base_uri": "https://localhost:8080/"
        },
        "id": "BVpJV1Iuyc--",
        "outputId": "d03213e3-e35a-4ffa-f883-7a60b48a1040"
      },
      "source": [
        "arr"
      ],
      "execution_count": 218,
      "outputs": [
        {
          "output_type": "execute_result",
          "data": {
            "text/plain": [
              "array([ 0,  0, 15, 20, 25, 30])"
            ]
          },
          "metadata": {
            "tags": []
          },
          "execution_count": 218
        }
      ]
    },
    {
      "cell_type": "code",
      "metadata": {
        "id": "up2qcP_6ydiK"
      },
      "source": [
        ""
      ],
      "execution_count": 218,
      "outputs": []
    },
    {
      "cell_type": "code",
      "metadata": {
        "colab": {
          "base_uri": "https://localhost:8080/"
        },
        "id": "gggz56iiyjJ_",
        "outputId": "95913c9a-2c2d-4554-a53d-e97bdcfb898e"
      },
      "source": [
        "sliced_arr"
      ],
      "execution_count": 219,
      "outputs": [
        {
          "output_type": "execute_result",
          "data": {
            "text/plain": [
              "array([15, 20, 25])"
            ]
          },
          "metadata": {
            "tags": []
          },
          "execution_count": 219
        }
      ]
    },
    {
      "cell_type": "code",
      "metadata": {
        "colab": {
          "base_uri": "https://localhost:8080/"
        },
        "id": "XzZVl6pUynzU",
        "outputId": "abd9235d-f58f-4eeb-deff-4f84b31dbee0"
      },
      "source": [
        "arr"
      ],
      "execution_count": 220,
      "outputs": [
        {
          "output_type": "execute_result",
          "data": {
            "text/plain": [
              "array([ 0,  0, 15, 20, 25, 30])"
            ]
          },
          "metadata": {
            "tags": []
          },
          "execution_count": 220
        }
      ]
    },
    {
      "cell_type": "code",
      "metadata": {
        "colab": {
          "base_uri": "https://localhost:8080/"
        },
        "id": "z8K28mr5yov6",
        "outputId": "9beff93a-8cb9-494e-a52a-cac8d3278001"
      },
      "source": [
        "arr=np.arange(1,11)\n",
        "arr"
      ],
      "execution_count": 221,
      "outputs": [
        {
          "output_type": "execute_result",
          "data": {
            "text/plain": [
              "array([ 1,  2,  3,  4,  5,  6,  7,  8,  9, 10])"
            ]
          },
          "metadata": {
            "tags": []
          },
          "execution_count": 221
        }
      ]
    },
    {
      "cell_type": "code",
      "metadata": {
        "colab": {
          "base_uri": "https://localhost:8080/"
        },
        "id": "vpNFFZzyzWSs",
        "outputId": "2da76f29-1036-444f-974c-c493da25d174"
      },
      "source": [
        "mask=arr>5\n",
        "mask"
      ],
      "execution_count": 223,
      "outputs": [
        {
          "output_type": "execute_result",
          "data": {
            "text/plain": [
              "array([False, False, False, False, False,  True,  True,  True,  True,\n",
              "        True])"
            ]
          },
          "metadata": {
            "tags": []
          },
          "execution_count": 223
        }
      ]
    },
    {
      "cell_type": "code",
      "metadata": {
        "colab": {
          "base_uri": "https://localhost:8080/"
        },
        "id": "rZCHgmmSzXhz",
        "outputId": "f7aa3e9e-6074-477b-aa76-8833344eff89"
      },
      "source": [
        "arr[mask]"
      ],
      "execution_count": 225,
      "outputs": [
        {
          "output_type": "execute_result",
          "data": {
            "text/plain": [
              "array([ 6,  7,  8,  9, 10])"
            ]
          },
          "metadata": {
            "tags": []
          },
          "execution_count": 225
        }
      ]
    },
    {
      "cell_type": "code",
      "metadata": {
        "colab": {
          "base_uri": "https://localhost:8080/"
        },
        "id": "UH1IjHIRzkjT",
        "outputId": "a5070358-6bd4-412a-bae3-7bd6152bb603"
      },
      "source": [
        "arr[arr<4]"
      ],
      "execution_count": 226,
      "outputs": [
        {
          "output_type": "execute_result",
          "data": {
            "text/plain": [
              "array([1, 2, 3])"
            ]
          },
          "metadata": {
            "tags": []
          },
          "execution_count": 226
        }
      ]
    },
    {
      "cell_type": "code",
      "metadata": {
        "id": "18jNNho3zzin"
      },
      "source": [
        "arr[arr%2==0]=0\n",
        "# equal even to 0"
      ],
      "execution_count": 230,
      "outputs": []
    },
    {
      "cell_type": "code",
      "metadata": {
        "colab": {
          "base_uri": "https://localhost:8080/"
        },
        "id": "k3_U95k1z1eO",
        "outputId": "b6bfa510-97e3-4980-cffe-8562ca0b3ebd"
      },
      "source": [
        "arr[arr==5]"
      ],
      "execution_count": 231,
      "outputs": [
        {
          "output_type": "execute_result",
          "data": {
            "text/plain": [
              "array([5])"
            ]
          },
          "metadata": {
            "tags": []
          },
          "execution_count": 231
        }
      ]
    },
    {
      "cell_type": "code",
      "metadata": {
        "colab": {
          "base_uri": "https://localhost:8080/"
        },
        "id": "nMmGPozp0cUq",
        "outputId": "4d11d2e5-b6a7-45c7-b464-a5eadd667924"
      },
      "source": [
        "arr"
      ],
      "execution_count": 232,
      "outputs": [
        {
          "output_type": "execute_result",
          "data": {
            "text/plain": [
              "array([1, 0, 3, 0, 5, 0, 7, 0, 9, 0])"
            ]
          },
          "metadata": {
            "tags": []
          },
          "execution_count": 232
        }
      ]
    },
    {
      "cell_type": "code",
      "metadata": {
        "id": "KnG9r2if0lfv"
      },
      "source": [
        "arr=np.array([1,2,3,4]).reshape(2,2)"
      ],
      "execution_count": 240,
      "outputs": []
    },
    {
      "cell_type": "code",
      "metadata": {
        "colab": {
          "base_uri": "https://localhost:8080/"
        },
        "id": "6ilS0LAc07OL",
        "outputId": "a9931461-67fb-4f4a-9790-fcb61a4e2eb7"
      },
      "source": [
        "arr"
      ],
      "execution_count": 241,
      "outputs": [
        {
          "output_type": "execute_result",
          "data": {
            "text/plain": [
              "array([[1, 2],\n",
              "       [3, 4]])"
            ]
          },
          "metadata": {
            "tags": []
          },
          "execution_count": 241
        }
      ]
    },
    {
      "cell_type": "code",
      "metadata": {
        "colab": {
          "base_uri": "https://localhost:8080/"
        },
        "id": "W1d8rkqu07gS",
        "outputId": "f19a8ae6-65fa-4f10-bce9-055b5b7e36cb"
      },
      "source": [
        "arr*2"
      ],
      "execution_count": 242,
      "outputs": [
        {
          "output_type": "execute_result",
          "data": {
            "text/plain": [
              "array([[2, 4],\n",
              "       [6, 8]])"
            ]
          },
          "metadata": {
            "tags": []
          },
          "execution_count": 242
        }
      ]
    },
    {
      "cell_type": "code",
      "metadata": {
        "colab": {
          "base_uri": "https://localhost:8080/"
        },
        "id": "iBArm8C408fI",
        "outputId": "b4e87089-0c76-4998-b43a-0f6c74bfd3f8"
      },
      "source": [
        "arr+5"
      ],
      "execution_count": 243,
      "outputs": [
        {
          "output_type": "execute_result",
          "data": {
            "text/plain": [
              "array([[6, 7],\n",
              "       [8, 9]])"
            ]
          },
          "metadata": {
            "tags": []
          },
          "execution_count": 243
        }
      ]
    },
    {
      "cell_type": "code",
      "metadata": {
        "colab": {
          "base_uri": "https://localhost:8080/"
        },
        "id": "IfkD2mai0-ke",
        "outputId": "a5495fb3-9c12-4aad-e082-d5612017d713"
      },
      "source": [
        "arr**2"
      ],
      "execution_count": 244,
      "outputs": [
        {
          "output_type": "execute_result",
          "data": {
            "text/plain": [
              "array([[ 1,  4],\n",
              "       [ 9, 16]])"
            ]
          },
          "metadata": {
            "tags": []
          },
          "execution_count": 244
        }
      ]
    },
    {
      "cell_type": "code",
      "metadata": {
        "colab": {
          "base_uri": "https://localhost:8080/"
        },
        "id": "zwW-pqwE1DUu",
        "outputId": "6fa786a9-010b-4fa8-ab77-8c948315197f"
      },
      "source": [
        "arr"
      ],
      "execution_count": 245,
      "outputs": [
        {
          "output_type": "execute_result",
          "data": {
            "text/plain": [
              "array([[1, 2],\n",
              "       [3, 4]])"
            ]
          },
          "metadata": {
            "tags": []
          },
          "execution_count": 245
        }
      ]
    },
    {
      "cell_type": "code",
      "metadata": {
        "colab": {
          "base_uri": "https://localhost:8080/"
        },
        "id": "GfWALFmV1FDH",
        "outputId": "e78c16f6-fc57-4552-efa5-ea645dc6c508"
      },
      "source": [
        "arr**4"
      ],
      "execution_count": 246,
      "outputs": [
        {
          "output_type": "execute_result",
          "data": {
            "text/plain": [
              "array([[  1,  16],\n",
              "       [ 81, 256]])"
            ]
          },
          "metadata": {
            "tags": []
          },
          "execution_count": 246
        }
      ]
    },
    {
      "cell_type": "code",
      "metadata": {
        "colab": {
          "base_uri": "https://localhost:8080/"
        },
        "id": "USCULMds1K1i",
        "outputId": "e4b9c6c0-1a5b-408c-ae68-38e7ebbd6707"
      },
      "source": [
        "arr"
      ],
      "execution_count": 247,
      "outputs": [
        {
          "output_type": "execute_result",
          "data": {
            "text/plain": [
              "array([[1, 2],\n",
              "       [3, 4]])"
            ]
          },
          "metadata": {
            "tags": []
          },
          "execution_count": 247
        }
      ]
    },
    {
      "cell_type": "code",
      "metadata": {
        "colab": {
          "base_uri": "https://localhost:8080/"
        },
        "id": "GinqlJ5Z1YLe",
        "outputId": "60357f2d-813d-4dc9-cda0-c43e7eda2abf"
      },
      "source": [
        "arr/1"
      ],
      "execution_count": 248,
      "outputs": [
        {
          "output_type": "execute_result",
          "data": {
            "text/plain": [
              "array([[1., 2.],\n",
              "       [3., 4.]])"
            ]
          },
          "metadata": {
            "tags": []
          },
          "execution_count": 248
        }
      ]
    },
    {
      "cell_type": "code",
      "metadata": {
        "colab": {
          "base_uri": "https://localhost:8080/",
          "height": 165
        },
        "id": "NkIzsVbh1Zs-",
        "outputId": "5e710e54-ddaf-4bd3-c1e4-9a6cb2c22594"
      },
      "source": [
        "1/0"
      ],
      "execution_count": 249,
      "outputs": [
        {
          "output_type": "error",
          "ename": "ZeroDivisionError",
          "evalue": "ignored",
          "traceback": [
            "\u001b[0;31m---------------------------------------------------------------------------\u001b[0m",
            "\u001b[0;31mZeroDivisionError\u001b[0m                         Traceback (most recent call last)",
            "\u001b[0;32m<ipython-input-249-9e1622b385b6>\u001b[0m in \u001b[0;36m<module>\u001b[0;34m()\u001b[0m\n\u001b[0;32m----> 1\u001b[0;31m \u001b[0;36m1\u001b[0m\u001b[0;34m/\u001b[0m\u001b[0;36m0\u001b[0m\u001b[0;34m\u001b[0m\u001b[0;34m\u001b[0m\u001b[0m\n\u001b[0m",
            "\u001b[0;31mZeroDivisionError\u001b[0m: division by zero"
          ]
        }
      ]
    },
    {
      "cell_type": "code",
      "metadata": {
        "colab": {
          "base_uri": "https://localhost:8080/"
        },
        "id": "7HNtdTRn1clL",
        "outputId": "da1b0760-d04a-47eb-dcc3-8a9de2455055"
      },
      "source": [
        "arr/0"
      ],
      "execution_count": 250,
      "outputs": [
        {
          "output_type": "stream",
          "text": [
            "/usr/local/lib/python3.7/dist-packages/ipykernel_launcher.py:1: RuntimeWarning: divide by zero encountered in true_divide\n",
            "  \"\"\"Entry point for launching an IPython kernel.\n"
          ],
          "name": "stderr"
        },
        {
          "output_type": "execute_result",
          "data": {
            "text/plain": [
              "array([[inf, inf],\n",
              "       [inf, inf]])"
            ]
          },
          "metadata": {
            "tags": []
          },
          "execution_count": 250
        }
      ]
    },
    {
      "cell_type": "code",
      "metadata": {
        "colab": {
          "base_uri": "https://localhost:8080/"
        },
        "id": "XqMB-GEk1j85",
        "outputId": "a8aa04d3-ae75-4605-8726-3558ed163368"
      },
      "source": [
        "arr/1"
      ],
      "execution_count": 251,
      "outputs": [
        {
          "output_type": "execute_result",
          "data": {
            "text/plain": [
              "array([[1., 2.],\n",
              "       [3., 4.]])"
            ]
          },
          "metadata": {
            "tags": []
          },
          "execution_count": 251
        }
      ]
    },
    {
      "cell_type": "code",
      "metadata": {
        "id": "MKRW42t31nS9"
      },
      "source": [
        "arr1=np.array([1,2,3,4])\n",
        "arr2=np.array([5,6,7,8])"
      ],
      "execution_count": 262,
      "outputs": []
    },
    {
      "cell_type": "code",
      "metadata": {
        "colab": {
          "base_uri": "https://localhost:8080/"
        },
        "id": "mFrnjgbN17DH",
        "outputId": "5442d01f-8e11-4720-b75e-6e47988dd81f"
      },
      "source": [
        "arr1+arr2"
      ],
      "execution_count": 263,
      "outputs": [
        {
          "output_type": "execute_result",
          "data": {
            "text/plain": [
              "array([ 6,  8, 10, 12])"
            ]
          },
          "metadata": {
            "tags": []
          },
          "execution_count": 263
        }
      ]
    },
    {
      "cell_type": "code",
      "metadata": {
        "colab": {
          "base_uri": "https://localhost:8080/"
        },
        "id": "0yqh2xYA18Vn",
        "outputId": "92d59068-a7db-49cd-ada0-f579fc6468ed"
      },
      "source": [
        "arr1*arr2"
      ],
      "execution_count": 264,
      "outputs": [
        {
          "output_type": "execute_result",
          "data": {
            "text/plain": [
              "array([ 5, 12, 21, 32])"
            ]
          },
          "metadata": {
            "tags": []
          },
          "execution_count": 264
        }
      ]
    },
    {
      "cell_type": "code",
      "metadata": {
        "colab": {
          "base_uri": "https://localhost:8080/"
        },
        "id": "JbkdxIgl2CMj",
        "outputId": "88ff5302-3281-4a97-a5d6-60da683eebdb"
      },
      "source": [
        "arr1\n"
      ],
      "execution_count": 265,
      "outputs": [
        {
          "output_type": "execute_result",
          "data": {
            "text/plain": [
              "array([1, 2, 3, 4])"
            ]
          },
          "metadata": {
            "tags": []
          },
          "execution_count": 265
        }
      ]
    },
    {
      "cell_type": "code",
      "metadata": {
        "colab": {
          "base_uri": "https://localhost:8080/"
        },
        "id": "o6iVHN8n2DE0",
        "outputId": "1203c77b-e33f-4642-8945-ef1035d83a8d"
      },
      "source": [
        "arr2"
      ],
      "execution_count": 266,
      "outputs": [
        {
          "output_type": "execute_result",
          "data": {
            "text/plain": [
              "array([5, 6, 7, 8])"
            ]
          },
          "metadata": {
            "tags": []
          },
          "execution_count": 266
        }
      ]
    },
    {
      "cell_type": "code",
      "metadata": {
        "colab": {
          "base_uri": "https://localhost:8080/"
        },
        "id": "QqKI0SEV2Dbq",
        "outputId": "d48bfb02-16d5-4279-b6f7-90615235e421"
      },
      "source": [
        "arr1/arr2"
      ],
      "execution_count": 267,
      "outputs": [
        {
          "output_type": "execute_result",
          "data": {
            "text/plain": [
              "array([0.2       , 0.33333333, 0.42857143, 0.5       ])"
            ]
          },
          "metadata": {
            "tags": []
          },
          "execution_count": 267
        }
      ]
    },
    {
      "cell_type": "code",
      "metadata": {
        "colab": {
          "base_uri": "https://localhost:8080/"
        },
        "id": "NEuVbAen2Kgq",
        "outputId": "1cec12a1-20e6-4e17-89db-461391988d20"
      },
      "source": [
        "arr1**arr2  \n",
        "# power of arr2 from arr1"
      ],
      "execution_count": 269,
      "outputs": [
        {
          "output_type": "execute_result",
          "data": {
            "text/plain": [
              "array([    1,    64,  2187, 65536])"
            ]
          },
          "metadata": {
            "tags": []
          },
          "execution_count": 269
        }
      ]
    },
    {
      "cell_type": "code",
      "metadata": {
        "colab": {
          "base_uri": "https://localhost:8080/"
        },
        "id": "IXFQBJ0O2MJa",
        "outputId": "8b22fff3-8753-4d77-a09b-ff31aad1e9e6"
      },
      "source": [
        "arr1**arr1"
      ],
      "execution_count": 271,
      "outputs": [
        {
          "output_type": "execute_result",
          "data": {
            "text/plain": [
              "array([  1,   4,  27, 256])"
            ]
          },
          "metadata": {
            "tags": []
          },
          "execution_count": 271
        }
      ]
    },
    {
      "cell_type": "code",
      "metadata": {
        "colab": {
          "base_uri": "https://localhost:8080/"
        },
        "id": "40KC5P9V2nFe",
        "outputId": "ff4c1e8d-cd6b-40a6-a3ef-fe0164770d6e"
      },
      "source": [
        "arr1"
      ],
      "execution_count": 272,
      "outputs": [
        {
          "output_type": "execute_result",
          "data": {
            "text/plain": [
              "array([1, 2, 3, 4])"
            ]
          },
          "metadata": {
            "tags": []
          },
          "execution_count": 272
        }
      ]
    },
    {
      "cell_type": "code",
      "metadata": {
        "id": "40r2N2Ri2xo6"
      },
      "source": [
        "arr3=np.array([9,10,11,12])"
      ],
      "execution_count": 275,
      "outputs": []
    },
    {
      "cell_type": "code",
      "metadata": {
        "colab": {
          "base_uri": "https://localhost:8080/"
        },
        "id": "zwiW8a4t2ssz",
        "outputId": "77fe4661-62d5-47cd-ce6d-b1c5d305ff5a"
      },
      "source": [
        "arr1/arr2*arr3"
      ],
      "execution_count": 276,
      "outputs": [
        {
          "output_type": "execute_result",
          "data": {
            "text/plain": [
              "array([1.8       , 3.33333333, 4.71428571, 6.        ])"
            ]
          },
          "metadata": {
            "tags": []
          },
          "execution_count": 276
        }
      ]
    },
    {
      "cell_type": "code",
      "metadata": {
        "id": "puhX-euI24ct"
      },
      "source": [
        "np.random.seed(123)\n",
        "matrix1=np.random.randint(1,12,9).reshape(3,3)"
      ],
      "execution_count": 287,
      "outputs": []
    },
    {
      "cell_type": "code",
      "metadata": {
        "id": "vdrTiF7y3E4A"
      },
      "source": [
        "matrix2=np.random.randint(5,15,9).reshape(3,3)"
      ],
      "execution_count": 288,
      "outputs": []
    },
    {
      "cell_type": "code",
      "metadata": {
        "colab": {
          "base_uri": "https://localhost:8080/"
        },
        "id": "gcTIvgZR3KHv",
        "outputId": "f1d59227-97c5-4ff6-aae0-107991569cf0"
      },
      "source": [
        "matrix1"
      ],
      "execution_count": 289,
      "outputs": [
        {
          "output_type": "execute_result",
          "data": {
            "text/plain": [
              "array([[ 3,  3,  7],\n",
              "       [ 2,  4, 11],\n",
              "       [10,  7,  2]])"
            ]
          },
          "metadata": {
            "tags": []
          },
          "execution_count": 289
        }
      ]
    },
    {
      "cell_type": "code",
      "metadata": {
        "colab": {
          "base_uri": "https://localhost:8080/"
        },
        "id": "URv8_Zju3MGn",
        "outputId": "d9e3bf84-487b-4f52-8421-59ec2a6962a7"
      },
      "source": [
        "matrix2"
      ],
      "execution_count": 290,
      "outputs": [
        {
          "output_type": "execute_result",
          "data": {
            "text/plain": [
              "array([[ 5,  6, 14],\n",
              "       [ 5,  5, 14],\n",
              "       [ 8,  9,  5]])"
            ]
          },
          "metadata": {
            "tags": []
          },
          "execution_count": 290
        }
      ]
    },
    {
      "cell_type": "code",
      "metadata": {
        "colab": {
          "base_uri": "https://localhost:8080/"
        },
        "id": "CdCUe0aS3M0V",
        "outputId": "851af5a5-dd10-49fd-ef53-437fcb74a71a"
      },
      "source": [
        "matrix1+matrix2"
      ],
      "execution_count": 291,
      "outputs": [
        {
          "output_type": "execute_result",
          "data": {
            "text/plain": [
              "array([[ 8,  9, 21],\n",
              "       [ 7,  9, 25],\n",
              "       [18, 16,  7]])"
            ]
          },
          "metadata": {
            "tags": []
          },
          "execution_count": 291
        }
      ]
    },
    {
      "cell_type": "code",
      "metadata": {
        "colab": {
          "base_uri": "https://localhost:8080/"
        },
        "id": "JFyb-m4J3PNd",
        "outputId": "9131abe8-6030-4fed-d58b-be0e701775ed"
      },
      "source": [
        "matrix1*matrix2"
      ],
      "execution_count": 294,
      "outputs": [
        {
          "output_type": "execute_result",
          "data": {
            "text/plain": [
              "array([[ 15,  18,  98],\n",
              "       [ 10,  20, 154],\n",
              "       [ 80,  63,  10]])"
            ]
          },
          "metadata": {
            "tags": []
          },
          "execution_count": 294
        }
      ]
    },
    {
      "cell_type": "code",
      "metadata": {
        "colab": {
          "base_uri": "https://localhost:8080/"
        },
        "id": "LHSwWcJ93fl3",
        "outputId": "05530e24-bdde-482d-ea70-d42f4c87efff"
      },
      "source": [
        "matrix1.dot(matrix2)"
      ],
      "execution_count": 295,
      "outputs": [
        {
          "output_type": "execute_result",
          "data": {
            "text/plain": [
              "array([[ 86,  96, 119],\n",
              "       [118, 131, 139],\n",
              "       [101, 113, 248]])"
            ]
          },
          "metadata": {
            "tags": []
          },
          "execution_count": 295
        }
      ]
    },
    {
      "cell_type": "code",
      "metadata": {
        "id": "NFwkMYaN3ye5"
      },
      "source": [
        "arr=np.array([2,80,1,97,5])\n"
      ],
      "execution_count": 296,
      "outputs": []
    },
    {
      "cell_type": "code",
      "metadata": {
        "colab": {
          "base_uri": "https://localhost:8080/"
        },
        "id": "GDU_ODkt4GkE",
        "outputId": "ff8ed06e-f26e-4980-92b9-3b5d981161f7"
      },
      "source": [
        "min(arr)"
      ],
      "execution_count": 297,
      "outputs": [
        {
          "output_type": "execute_result",
          "data": {
            "text/plain": [
              "1"
            ]
          },
          "metadata": {
            "tags": []
          },
          "execution_count": 297
        }
      ]
    },
    {
      "cell_type": "code",
      "metadata": {
        "colab": {
          "base_uri": "https://localhost:8080/"
        },
        "id": "coFuY1XA4Hpl",
        "outputId": "5c6e8542-6c61-49f9-eade-f17a2882ee15"
      },
      "source": [
        "arr.min() "
      ],
      "execution_count": 298,
      "outputs": [
        {
          "output_type": "execute_result",
          "data": {
            "text/plain": [
              "1"
            ]
          },
          "metadata": {
            "tags": []
          },
          "execution_count": 298
        }
      ]
    },
    {
      "cell_type": "code",
      "metadata": {
        "colab": {
          "base_uri": "https://localhost:8080/"
        },
        "id": "mG7Ors5n4JNl",
        "outputId": "c53a0218-75ea-491a-e7ee-be51200dba90"
      },
      "source": [
        "arr.max()"
      ],
      "execution_count": 299,
      "outputs": [
        {
          "output_type": "execute_result",
          "data": {
            "text/plain": [
              "97"
            ]
          },
          "metadata": {
            "tags": []
          },
          "execution_count": 299
        }
      ]
    },
    {
      "cell_type": "code",
      "metadata": {
        "colab": {
          "base_uri": "https://localhost:8080/"
        },
        "id": "f4jph7Zn4NcG",
        "outputId": "46f4dbc9-d442-4836-f50d-5780f63d22e2"
      },
      "source": [
        "arr.sum()"
      ],
      "execution_count": 300,
      "outputs": [
        {
          "output_type": "execute_result",
          "data": {
            "text/plain": [
              "185"
            ]
          },
          "metadata": {
            "tags": []
          },
          "execution_count": 300
        }
      ]
    },
    {
      "cell_type": "code",
      "metadata": {
        "colab": {
          "base_uri": "https://localhost:8080/"
        },
        "id": "aerOKVUK4PF3",
        "outputId": "54ebc050-48bb-498c-d525-e5fe4b75a3eb"
      },
      "source": [
        "sum(arr)"
      ],
      "execution_count": 301,
      "outputs": [
        {
          "output_type": "execute_result",
          "data": {
            "text/plain": [
              "185"
            ]
          },
          "metadata": {
            "tags": []
          },
          "execution_count": 301
        }
      ]
    },
    {
      "cell_type": "code",
      "metadata": {
        "colab": {
          "base_uri": "https://localhost:8080/"
        },
        "id": "o7ZIAar-4RIa",
        "outputId": "2c923474-07ab-4a66-a3f3-859907eade28"
      },
      "source": [
        "np.argmin(arr)"
      ],
      "execution_count": 302,
      "outputs": [
        {
          "output_type": "execute_result",
          "data": {
            "text/plain": [
              "2"
            ]
          },
          "metadata": {
            "tags": []
          },
          "execution_count": 302
        }
      ]
    },
    {
      "cell_type": "code",
      "metadata": {
        "colab": {
          "base_uri": "https://localhost:8080/"
        },
        "id": "UJhasBLI4VQ_",
        "outputId": "0e82b086-2e5f-458e-c2be-92c432c88ae4"
      },
      "source": [
        "np.argmax(arr)"
      ],
      "execution_count": 303,
      "outputs": [
        {
          "output_type": "execute_result",
          "data": {
            "text/plain": [
              "3"
            ]
          },
          "metadata": {
            "tags": []
          },
          "execution_count": 303
        }
      ]
    },
    {
      "cell_type": "code",
      "metadata": {
        "colab": {
          "base_uri": "https://localhost:8080/"
        },
        "id": "8OL8gwaw4W_z",
        "outputId": "0b81168b-ca9d-48f8-919b-8fd00bd098a2"
      },
      "source": [
        "np.sqrt(arr)"
      ],
      "execution_count": 304,
      "outputs": [
        {
          "output_type": "execute_result",
          "data": {
            "text/plain": [
              "array([1.41421356, 8.94427191, 1.        , 9.8488578 , 2.23606798])"
            ]
          },
          "metadata": {
            "tags": []
          },
          "execution_count": 304
        }
      ]
    },
    {
      "cell_type": "code",
      "metadata": {
        "colab": {
          "base_uri": "https://localhost:8080/"
        },
        "id": "paOT3LCh4h7K",
        "outputId": "71ca9aa3-101c-48ff-b1dc-d3c6d8f914ef"
      },
      "source": [
        "arr"
      ],
      "execution_count": 305,
      "outputs": [
        {
          "output_type": "execute_result",
          "data": {
            "text/plain": [
              "array([ 2, 80,  1, 97,  5])"
            ]
          },
          "metadata": {
            "tags": []
          },
          "execution_count": 305
        }
      ]
    },
    {
      "cell_type": "code",
      "metadata": {
        "colab": {
          "base_uri": "https://localhost:8080/"
        },
        "id": "k9l5Ndir4jtQ",
        "outputId": "ffbe32ef-433d-4a56-9ada-728fc23e3180"
      },
      "source": [
        "np.exp(arr)"
      ],
      "execution_count": 306,
      "outputs": [
        {
          "output_type": "execute_result",
          "data": {
            "text/plain": [
              "array([7.38905610e+00, 5.54062238e+34, 2.71828183e+00, 1.33833472e+42,\n",
              "       1.48413159e+02])"
            ]
          },
          "metadata": {
            "tags": []
          },
          "execution_count": 306
        }
      ]
    },
    {
      "cell_type": "code",
      "metadata": {
        "colab": {
          "base_uri": "https://localhost:8080/"
        },
        "id": "TtdKDkhx4mJE",
        "outputId": "449779af-3326-4444-c37c-be6a89157f25"
      },
      "source": [
        "2.71828\n",
        "# \n",
        "2.71828**80"
      ],
      "execution_count": 308,
      "outputs": [
        {
          "output_type": "execute_result",
          "data": {
            "text/plain": [
              "5.5403242392390125e+34"
            ]
          },
          "metadata": {
            "tags": []
          },
          "execution_count": 308
        }
      ]
    },
    {
      "cell_type": "code",
      "metadata": {
        "colab": {
          "base_uri": "https://localhost:8080/"
        },
        "id": "HZtphUbA4uNn",
        "outputId": "a1810433-a079-4f50-ba26-9335b25de605"
      },
      "source": [
        "np.sign(arr)"
      ],
      "execution_count": 309,
      "outputs": [
        {
          "output_type": "execute_result",
          "data": {
            "text/plain": [
              "array([1, 1, 1, 1, 1])"
            ]
          },
          "metadata": {
            "tags": []
          },
          "execution_count": 309
        }
      ]
    },
    {
      "cell_type": "code",
      "metadata": {
        "colab": {
          "base_uri": "https://localhost:8080/"
        },
        "id": "ZQc9EcH742UD",
        "outputId": "d32c6b30-d4d5-4a5c-8e1a-ff58073e8614"
      },
      "source": [
        "np.sin(arr)"
      ],
      "execution_count": 310,
      "outputs": [
        {
          "output_type": "execute_result",
          "data": {
            "text/plain": [
              "array([ 0.90929743, -0.99388865,  0.84147098,  0.37960774, -0.95892427])"
            ]
          },
          "metadata": {
            "tags": []
          },
          "execution_count": 310
        }
      ]
    },
    {
      "cell_type": "code",
      "metadata": {
        "colab": {
          "base_uri": "https://localhost:8080/"
        },
        "id": "R60upOuF44Bo",
        "outputId": "41a7d338-0de7-45a5-e3dc-ac0d56302d9e"
      },
      "source": [
        "np.cos(arr)"
      ],
      "execution_count": 311,
      "outputs": [
        {
          "output_type": "execute_result",
          "data": {
            "text/plain": [
              "array([-0.41614684, -0.11038724,  0.54030231, -0.92514754,  0.28366219])"
            ]
          },
          "metadata": {
            "tags": []
          },
          "execution_count": 311
        }
      ]
    },
    {
      "cell_type": "code",
      "metadata": {
        "colab": {
          "base_uri": "https://localhost:8080/"
        },
        "id": "jM7ihPaO44va",
        "outputId": "05e1ec50-fafd-47a0-bb3c-cda536ccc089"
      },
      "source": [
        "np.linspace(1,15,50)"
      ],
      "execution_count": 312,
      "outputs": [
        {
          "output_type": "execute_result",
          "data": {
            "text/plain": [
              "array([ 1.        ,  1.28571429,  1.57142857,  1.85714286,  2.14285714,\n",
              "        2.42857143,  2.71428571,  3.        ,  3.28571429,  3.57142857,\n",
              "        3.85714286,  4.14285714,  4.42857143,  4.71428571,  5.        ,\n",
              "        5.28571429,  5.57142857,  5.85714286,  6.14285714,  6.42857143,\n",
              "        6.71428571,  7.        ,  7.28571429,  7.57142857,  7.85714286,\n",
              "        8.14285714,  8.42857143,  8.71428571,  9.        ,  9.28571429,\n",
              "        9.57142857,  9.85714286, 10.14285714, 10.42857143, 10.71428571,\n",
              "       11.        , 11.28571429, 11.57142857, 11.85714286, 12.14285714,\n",
              "       12.42857143, 12.71428571, 13.        , 13.28571429, 13.57142857,\n",
              "       13.85714286, 14.14285714, 14.42857143, 14.71428571, 15.        ])"
            ]
          },
          "metadata": {
            "tags": []
          },
          "execution_count": 312
        }
      ]
    },
    {
      "cell_type": "code",
      "metadata": {
        "colab": {
          "base_uri": "https://localhost:8080/"
        },
        "id": "0fZca24b47-N",
        "outputId": "3b6f0cb1-e6a0-4489-c23d-aec2ec06a4b1"
      },
      "source": [
        "np.linspace(1,50,5)"
      ],
      "execution_count": 313,
      "outputs": [
        {
          "output_type": "execute_result",
          "data": {
            "text/plain": [
              "array([ 1.  , 13.25, 25.5 , 37.75, 50.  ])"
            ]
          },
          "metadata": {
            "tags": []
          },
          "execution_count": 313
        }
      ]
    },
    {
      "cell_type": "code",
      "metadata": {
        "id": "AL3PrFMr5FaO"
      },
      "source": [
        "arr2=np.array([1,2,3,0],dtype=bool)"
      ],
      "execution_count": 318,
      "outputs": []
    },
    {
      "cell_type": "code",
      "metadata": {
        "colab": {
          "base_uri": "https://localhost:8080/"
        },
        "id": "tjoWV4AW5Kp_",
        "outputId": "ba9fda43-54ee-4695-ef0e-fd174bc27671"
      },
      "source": [
        "arr2"
      ],
      "execution_count": 319,
      "outputs": [
        {
          "output_type": "execute_result",
          "data": {
            "text/plain": [
              "array([ True,  True,  True, False])"
            ]
          },
          "metadata": {
            "tags": []
          },
          "execution_count": 319
        }
      ]
    },
    {
      "cell_type": "code",
      "metadata": {
        "colab": {
          "base_uri": "https://localhost:8080/"
        },
        "id": "FOsskD5W5Lmp",
        "outputId": "59a2f466-a624-47da-8eed-b554393372a4"
      },
      "source": [
        "arr2=np.array([1,0,1,1],dtype=bool)\n",
        "arr2"
      ],
      "execution_count": 320,
      "outputs": [
        {
          "output_type": "execute_result",
          "data": {
            "text/plain": [
              "array([ True, False,  True,  True])"
            ]
          },
          "metadata": {
            "tags": []
          },
          "execution_count": 320
        }
      ]
    },
    {
      "cell_type": "code",
      "metadata": {
        "colab": {
          "base_uri": "https://localhost:8080/"
        },
        "id": "2GJsyvbg5Zco",
        "outputId": "940248ba-578a-4ba8-aa57-a89f2d97b7c1"
      },
      "source": [
        "for i in arr2:\n",
        "  print(i)"
      ],
      "execution_count": 321,
      "outputs": [
        {
          "output_type": "stream",
          "text": [
            "True\n",
            "False\n",
            "True\n",
            "True\n"
          ],
          "name": "stdout"
        }
      ]
    },
    {
      "cell_type": "code",
      "metadata": {
        "id": "XNwYbEs75c7v"
      },
      "source": [
        "np.random.seed(123)\n",
        "matrix=np.random.randint(1,11,9).reshape(3,3)"
      ],
      "execution_count": 324,
      "outputs": []
    },
    {
      "cell_type": "code",
      "metadata": {
        "colab": {
          "base_uri": "https://localhost:8080/"
        },
        "id": "zUTzXXbZ5xGH",
        "outputId": "f237b3bc-8ef4-41ce-ca68-2ec510108499"
      },
      "source": [
        "matrix"
      ],
      "execution_count": 325,
      "outputs": [
        {
          "output_type": "execute_result",
          "data": {
            "text/plain": [
              "array([[ 3,  3,  7],\n",
              "       [ 2,  4, 10],\n",
              "       [ 7,  2,  1]])"
            ]
          },
          "metadata": {
            "tags": []
          },
          "execution_count": 325
        }
      ]
    },
    {
      "cell_type": "code",
      "metadata": {
        "colab": {
          "base_uri": "https://localhost:8080/"
        },
        "id": "fLtTHMle54ys",
        "outputId": "7bfdc9b2-738e-444c-ae44-ba6b669bbc4e"
      },
      "source": [
        "matrix.sum()"
      ],
      "execution_count": 326,
      "outputs": [
        {
          "output_type": "execute_result",
          "data": {
            "text/plain": [
              "39"
            ]
          },
          "metadata": {
            "tags": []
          },
          "execution_count": 326
        }
      ]
    },
    {
      "cell_type": "code",
      "metadata": {
        "colab": {
          "base_uri": "https://localhost:8080/"
        },
        "id": "2wR2EmAX6A5f",
        "outputId": "c038a7be-7c99-4fbb-dafc-dc9a51b3f260"
      },
      "source": [
        "np.min(matrix)"
      ],
      "execution_count": 329,
      "outputs": [
        {
          "output_type": "execute_result",
          "data": {
            "text/plain": [
              "1"
            ]
          },
          "metadata": {
            "tags": []
          },
          "execution_count": 329
        }
      ]
    },
    {
      "cell_type": "code",
      "metadata": {
        "colab": {
          "base_uri": "https://localhost:8080/"
        },
        "id": "x6RF2xE96D_c",
        "outputId": "0c96b018-68e7-40b3-f838-6299b3b950f2"
      },
      "source": [
        "np.max(matrix)"
      ],
      "execution_count": 331,
      "outputs": [
        {
          "output_type": "execute_result",
          "data": {
            "text/plain": [
              "10"
            ]
          },
          "metadata": {
            "tags": []
          },
          "execution_count": 331
        }
      ]
    },
    {
      "cell_type": "code",
      "metadata": {
        "colab": {
          "base_uri": "https://localhost:8080/"
        },
        "id": "vhdMY-JC6FHg",
        "outputId": "0bcc5189-0e0f-46e4-f959-8725754b6bef"
      },
      "source": [
        "# row=1,column=0\n",
        "\n",
        "matrix"
      ],
      "execution_count": 337,
      "outputs": [
        {
          "output_type": "execute_result",
          "data": {
            "text/plain": [
              "array([[ 3,  3,  7],\n",
              "       [ 2,  4, 10],\n",
              "       [ 7,  2,  1]])"
            ]
          },
          "metadata": {
            "tags": []
          },
          "execution_count": 337
        }
      ]
    },
    {
      "cell_type": "code",
      "metadata": {
        "colab": {
          "base_uri": "https://localhost:8080/"
        },
        "id": "RDsULot46PJq",
        "outputId": "2bf62898-9737-4b36-95e5-66c8bdf40568"
      },
      "source": [
        "np.min(matrix,axis=1)"
      ],
      "execution_count": 341,
      "outputs": [
        {
          "output_type": "execute_result",
          "data": {
            "text/plain": [
              "array([3, 2, 1])"
            ]
          },
          "metadata": {
            "tags": []
          },
          "execution_count": 341
        }
      ]
    },
    {
      "cell_type": "code",
      "metadata": {
        "colab": {
          "base_uri": "https://localhost:8080/"
        },
        "id": "a244Vz0B6fpK",
        "outputId": "0d908e9c-4112-4169-d3c2-8bcb7a5a4387"
      },
      "source": [
        "np.min(matrix,axis=0)"
      ],
      "execution_count": 342,
      "outputs": [
        {
          "output_type": "execute_result",
          "data": {
            "text/plain": [
              "array([2, 2, 1])"
            ]
          },
          "metadata": {
            "tags": []
          },
          "execution_count": 342
        }
      ]
    },
    {
      "cell_type": "code",
      "metadata": {
        "colab": {
          "base_uri": "https://localhost:8080/"
        },
        "id": "2SARlPi363mU",
        "outputId": "62d2bf5f-542c-4341-cecf-d1039ffe3e4c"
      },
      "source": [
        "np.sum(matrix,axis=1)"
      ],
      "execution_count": 343,
      "outputs": [
        {
          "output_type": "execute_result",
          "data": {
            "text/plain": [
              "array([13, 16, 10])"
            ]
          },
          "metadata": {
            "tags": []
          },
          "execution_count": 343
        }
      ]
    },
    {
      "cell_type": "code",
      "metadata": {
        "colab": {
          "base_uri": "https://localhost:8080/"
        },
        "id": "v6dTupBv7HcW",
        "outputId": "cd438039-30d1-4d82-d1e5-028aa6997baf"
      },
      "source": [
        "np.cumsum(matrix)"
      ],
      "execution_count": 344,
      "outputs": [
        {
          "output_type": "execute_result",
          "data": {
            "text/plain": [
              "array([ 3,  6, 13, 15, 19, 29, 36, 38, 39])"
            ]
          },
          "metadata": {
            "tags": []
          },
          "execution_count": 344
        }
      ]
    },
    {
      "cell_type": "code",
      "metadata": {
        "colab": {
          "base_uri": "https://localhost:8080/"
        },
        "id": "3S8My5RG7KBg",
        "outputId": "53fdc152-eb77-4340-dd99-2bd73e6e1d3c"
      },
      "source": [
        "matrix"
      ],
      "execution_count": 345,
      "outputs": [
        {
          "output_type": "execute_result",
          "data": {
            "text/plain": [
              "array([[ 3,  3,  7],\n",
              "       [ 2,  4, 10],\n",
              "       [ 7,  2,  1]])"
            ]
          },
          "metadata": {
            "tags": []
          },
          "execution_count": 345
        }
      ]
    },
    {
      "cell_type": "code",
      "metadata": {
        "colab": {
          "base_uri": "https://localhost:8080/"
        },
        "id": "AueK-8wu7Kia",
        "outputId": "b34b507e-dfc4-4200-825a-29397fc3ee41"
      },
      "source": [
        "np.cumsum(matrix,axis=1)"
      ],
      "execution_count": 346,
      "outputs": [
        {
          "output_type": "execute_result",
          "data": {
            "text/plain": [
              "array([[ 3,  6, 13],\n",
              "       [ 2,  6, 16],\n",
              "       [ 7,  9, 10]])"
            ]
          },
          "metadata": {
            "tags": []
          },
          "execution_count": 346
        }
      ]
    },
    {
      "cell_type": "code",
      "metadata": {
        "colab": {
          "base_uri": "https://localhost:8080/"
        },
        "id": "tAtrtSeR7YCB",
        "outputId": "3d3a8acc-967d-4e12-a7f5-520137211c91"
      },
      "source": [
        "np.cumsum(matrix,axis=0)"
      ],
      "execution_count": 347,
      "outputs": [
        {
          "output_type": "execute_result",
          "data": {
            "text/plain": [
              "array([[ 3,  3,  7],\n",
              "       [ 5,  7, 17],\n",
              "       [12,  9, 18]])"
            ]
          },
          "metadata": {
            "tags": []
          },
          "execution_count": 347
        }
      ]
    },
    {
      "cell_type": "code",
      "metadata": {
        "colab": {
          "base_uri": "https://localhost:8080/"
        },
        "id": "nabEGkpb7ZLV",
        "outputId": "a6846f47-f2be-4852-a85e-e6694c326e13"
      },
      "source": [
        "np.prod(matrix,axis=1)"
      ],
      "execution_count": 348,
      "outputs": [
        {
          "output_type": "execute_result",
          "data": {
            "text/plain": [
              "array([63, 80, 14])"
            ]
          },
          "metadata": {
            "tags": []
          },
          "execution_count": 348
        }
      ]
    },
    {
      "cell_type": "code",
      "metadata": {
        "colab": {
          "base_uri": "https://localhost:8080/"
        },
        "id": "YX512FVx7c9v",
        "outputId": "18544224-a6da-4b80-bfa7-3bffaeb65816"
      },
      "source": [
        "np.prod(matrix,axis=0)"
      ],
      "execution_count": 349,
      "outputs": [
        {
          "output_type": "execute_result",
          "data": {
            "text/plain": [
              "array([42, 24, 70])"
            ]
          },
          "metadata": {
            "tags": []
          },
          "execution_count": 349
        }
      ]
    },
    {
      "cell_type": "code",
      "metadata": {
        "id": "VGkdecFR7d9R"
      },
      "source": [
        "np.random.seed(123)\n",
        "rand_arr=np.random.randint(1,15,15)"
      ],
      "execution_count": 352,
      "outputs": []
    },
    {
      "cell_type": "code",
      "metadata": {
        "colab": {
          "base_uri": "https://localhost:8080/"
        },
        "id": "ZoAY-s477ojy",
        "outputId": "1497d73a-2f47-436e-e467-240c45d5b03e"
      },
      "source": [
        "rand_arr"
      ],
      "execution_count": 353,
      "outputs": [
        {
          "output_type": "execute_result",
          "data": {
            "text/plain": [
              "array([14,  3, 13,  3,  7,  2,  4, 11, 12, 10,  7,  2,  1,  2, 10])"
            ]
          },
          "metadata": {
            "tags": []
          },
          "execution_count": 353
        }
      ]
    },
    {
      "cell_type": "code",
      "metadata": {
        "id": "gx0kS4KR7sYe"
      },
      "source": [
        "np.random.shuffle(rand_arr)"
      ],
      "execution_count": 355,
      "outputs": []
    },
    {
      "cell_type": "code",
      "metadata": {
        "colab": {
          "base_uri": "https://localhost:8080/"
        },
        "id": "b933n55Z8D1o",
        "outputId": "076500c1-55ae-4768-d7b4-0fb88266a6a4"
      },
      "source": [
        "rand_arr"
      ],
      "execution_count": 356,
      "outputs": [
        {
          "output_type": "execute_result",
          "data": {
            "text/plain": [
              "array([ 4,  2, 11, 12, 13,  2,  3,  7,  1,  2,  7,  3, 10, 10, 14])"
            ]
          },
          "metadata": {
            "tags": []
          },
          "execution_count": 356
        }
      ]
    },
    {
      "cell_type": "code",
      "metadata": {
        "colab": {
          "base_uri": "https://localhost:8080/"
        },
        "id": "h1XN82XJ8Hv_",
        "outputId": "b21c1a85-f9f0-44fa-a6de-23fd96575e70"
      },
      "source": [
        "rand_arr"
      ],
      "execution_count": 357,
      "outputs": [
        {
          "output_type": "execute_result",
          "data": {
            "text/plain": [
              "array([ 4,  2, 11, 12, 13,  2,  3,  7,  1,  2,  7,  3, 10, 10, 14])"
            ]
          },
          "metadata": {
            "tags": []
          },
          "execution_count": 357
        }
      ]
    },
    {
      "cell_type": "code",
      "metadata": {
        "id": "rbRWtOip8Iyz"
      },
      "source": [
        "new_ar=np.unique(rand_arr)"
      ],
      "execution_count": 364,
      "outputs": []
    },
    {
      "cell_type": "code",
      "metadata": {
        "colab": {
          "base_uri": "https://localhost:8080/"
        },
        "id": "I-C8XdS88Mw2",
        "outputId": "9c801888-7858-4d74-8fdb-6f18137082ab"
      },
      "source": [
        "new_ar"
      ],
      "execution_count": 365,
      "outputs": [
        {
          "output_type": "execute_result",
          "data": {
            "text/plain": [
              "array([ 1,  2,  3,  4,  7, 10, 11, 12, 13, 14])"
            ]
          },
          "metadata": {
            "tags": []
          },
          "execution_count": 365
        }
      ]
    },
    {
      "cell_type": "code",
      "metadata": {
        "colab": {
          "base_uri": "https://localhost:8080/"
        },
        "id": "yPZ-cJwu8O5P",
        "outputId": "bbf26878-c7ad-49bf-c7a0-cc4364a24321"
      },
      "source": [
        "np.unique(rand_arr).size"
      ],
      "execution_count": 366,
      "outputs": [
        {
          "output_type": "execute_result",
          "data": {
            "text/plain": [
              "10"
            ]
          },
          "metadata": {
            "tags": []
          },
          "execution_count": 366
        }
      ]
    },
    {
      "cell_type": "code",
      "metadata": {
        "colab": {
          "base_uri": "https://localhost:8080/"
        },
        "id": "q6LMnUKH8YRS",
        "outputId": "bd628626-5f84-4ec0-ea1d-8950531b235e"
      },
      "source": [
        "np.unique(arr,return_index=True,return_counts=True)"
      ],
      "execution_count": 367,
      "outputs": [
        {
          "output_type": "execute_result",
          "data": {
            "text/plain": [
              "(array([ 1,  2,  5, 80, 97]), array([2, 0, 4, 1, 3]), array([1, 1, 1, 1, 1]))"
            ]
          },
          "metadata": {
            "tags": []
          },
          "execution_count": 367
        }
      ]
    },
    {
      "cell_type": "code",
      "metadata": {
        "colab": {
          "base_uri": "https://localhost:8080/"
        },
        "id": "G49W0mW58g4V",
        "outputId": "8adb141c-2388-475d-df15-9b164229c1db"
      },
      "source": [
        "np.random.seed(123)\n",
        "matrix1=np.random.randint(1,20,9).reshape(3,3)\n",
        "print(matrix1)\n",
        "matrix2=np.random.randint(20,40,9).reshape(3,3)\n",
        "print(matrix2)"
      ],
      "execution_count": 369,
      "outputs": [
        {
          "output_type": "stream",
          "text": [
            "[[14  3  3]\n",
            " [ 7 18 11]\n",
            " [ 2  1 18]]\n",
            "[[35 29 20]\n",
            " [34 20 35]\n",
            " [39 34 24]]\n"
          ],
          "name": "stdout"
        }
      ]
    },
    {
      "cell_type": "code",
      "metadata": {
        "colab": {
          "base_uri": "https://localhost:8080/"
        },
        "id": "K0lwfTeC9So9",
        "outputId": "d7586001-1711-4cad-8045-16f110910681"
      },
      "source": [
        "np.hstack((matrix1,matrix2))"
      ],
      "execution_count": 370,
      "outputs": [
        {
          "output_type": "execute_result",
          "data": {
            "text/plain": [
              "array([[14,  3,  3, 35, 29, 20],\n",
              "       [ 7, 18, 11, 34, 20, 35],\n",
              "       [ 2,  1, 18, 39, 34, 24]])"
            ]
          },
          "metadata": {
            "tags": []
          },
          "execution_count": 370
        }
      ]
    },
    {
      "cell_type": "code",
      "metadata": {
        "colab": {
          "base_uri": "https://localhost:8080/"
        },
        "id": "i7NUBv3z9xWo",
        "outputId": "761a78c8-73fb-4c18-950f-7390d80b6f22"
      },
      "source": [
        "np.vstack((matrix1,matrix2)) "
      ],
      "execution_count": 371,
      "outputs": [
        {
          "output_type": "execute_result",
          "data": {
            "text/plain": [
              "array([[14,  3,  3],\n",
              "       [ 7, 18, 11],\n",
              "       [ 2,  1, 18],\n",
              "       [35, 29, 20],\n",
              "       [34, 20, 35],\n",
              "       [39, 34, 24]])"
            ]
          },
          "metadata": {
            "tags": []
          },
          "execution_count": 371
        }
      ]
    },
    {
      "cell_type": "code",
      "metadata": {
        "id": "Gib-vV2M91kV"
      },
      "source": [
        "ar1=np.array([1,2,3])\n",
        "ar2=np.array([4,5,6])"
      ],
      "execution_count": 373,
      "outputs": []
    },
    {
      "cell_type": "code",
      "metadata": {
        "colab": {
          "base_uri": "https://localhost:8080/"
        },
        "id": "IIMQ8CLu-XuE",
        "outputId": "7d8750fe-0b11-4031-99aa-d01ae6dcb584"
      },
      "source": [
        "np.hstack((ar1,ar2))"
      ],
      "execution_count": 375,
      "outputs": [
        {
          "output_type": "execute_result",
          "data": {
            "text/plain": [
              "array([1, 2, 3, 4, 5, 6])"
            ]
          },
          "metadata": {
            "tags": []
          },
          "execution_count": 375
        }
      ]
    },
    {
      "cell_type": "code",
      "metadata": {
        "colab": {
          "base_uri": "https://localhost:8080/"
        },
        "id": "ozW0FDCx-dGm",
        "outputId": "4f94451f-46e3-4bc9-dc7d-9045db365c96"
      },
      "source": [
        "np.vstack((ar1,ar2))"
      ],
      "execution_count": 376,
      "outputs": [
        {
          "output_type": "execute_result",
          "data": {
            "text/plain": [
              "array([[1, 2, 3],\n",
              "       [4, 5, 6]])"
            ]
          },
          "metadata": {
            "tags": []
          },
          "execution_count": 376
        }
      ]
    },
    {
      "cell_type": "code",
      "metadata": {
        "colab": {
          "base_uri": "https://localhost:8080/"
        },
        "id": "0jXnlcFZ-h4w",
        "outputId": "9ba3fe5e-5d6a-4f5f-c167-460373214344"
      },
      "source": [
        "arr=np.array([1,2,3])\n",
        "arr"
      ],
      "execution_count": 377,
      "outputs": [
        {
          "output_type": "execute_result",
          "data": {
            "text/plain": [
              "array([1, 2, 3])"
            ]
          },
          "metadata": {
            "tags": []
          },
          "execution_count": 377
        }
      ]
    },
    {
      "cell_type": "code",
      "metadata": {
        "colab": {
          "base_uri": "https://localhost:8080/"
        },
        "id": "6nWK6kZ-_VPN",
        "outputId": "66c2ec61-9cf4-4f46-8477-7c58c4afa037"
      },
      "source": [
        "arr1=np.arange(20,41)\n",
        "arr1"
      ],
      "execution_count": 378,
      "outputs": [
        {
          "output_type": "execute_result",
          "data": {
            "text/plain": [
              "array([20, 21, 22, 23, 24, 25, 26, 27, 28, 29, 30, 31, 32, 33, 34, 35, 36,\n",
              "       37, 38, 39, 40])"
            ]
          },
          "metadata": {
            "tags": []
          },
          "execution_count": 378
        }
      ]
    },
    {
      "cell_type": "code",
      "metadata": {
        "colab": {
          "base_uri": "https://localhost:8080/"
        },
        "id": "o2ap4jNf_alJ",
        "outputId": "9f8fa0e2-d771-44b0-b9ad-abfdac48f424"
      },
      "source": [
        "ar3=np.ones(10)*5\n",
        "ar3"
      ],
      "execution_count": 379,
      "outputs": [
        {
          "output_type": "execute_result",
          "data": {
            "text/plain": [
              "array([5., 5., 5., 5., 5., 5., 5., 5., 5., 5.])"
            ]
          },
          "metadata": {
            "tags": []
          },
          "execution_count": 379
        }
      ]
    },
    {
      "cell_type": "code",
      "metadata": {
        "colab": {
          "base_uri": "https://localhost:8080/"
        },
        "id": "mKx8E2sgBpyb",
        "outputId": "50e7814f-c5ad-46de-9d6a-7a2a89bb2876"
      },
      "source": [
        "ar4=np.random.randint(1,50,24).reshape(3,4,2)\n",
        "ar4"
      ],
      "execution_count": 384,
      "outputs": [
        {
          "output_type": "execute_result",
          "data": {
            "text/plain": [
              "array([[[45, 42],\n",
              "        [49, 28],\n",
              "        [23,  4],\n",
              "        [ 4, 12]],\n",
              "\n",
              "       [[22, 26],\n",
              "        [40, 42],\n",
              "        [35,  4],\n",
              "        [12,  4]],\n",
              "\n",
              "       [[31,  7],\n",
              "        [10, 24],\n",
              "        [15, 39],\n",
              "        [20,  7]]])"
            ]
          },
          "metadata": {
            "tags": []
          },
          "execution_count": 384
        }
      ]
    },
    {
      "cell_type": "code",
      "metadata": {
        "id": "RuxEFFj9B6Sn"
      },
      "source": [
        "ar5=np.random.rand(4,5)"
      ],
      "execution_count": 387,
      "outputs": []
    },
    {
      "cell_type": "code",
      "metadata": {
        "colab": {
          "base_uri": "https://localhost:8080/"
        },
        "id": "hdzQPvv2DZiy",
        "outputId": "e4e37e5a-5676-4d84-ed23-6fcc3127a2cf"
      },
      "source": [
        "ar5"
      ],
      "execution_count": 388,
      "outputs": [
        {
          "output_type": "execute_result",
          "data": {
            "text/plain": [
              "array([[0.51312815, 0.66662455, 0.10590849, 0.13089495, 0.32198061],\n",
              "       [0.66156434, 0.84650623, 0.55325734, 0.85445249, 0.38483781],\n",
              "       [0.3167879 , 0.35426468, 0.17108183, 0.82911263, 0.33867085],\n",
              "       [0.55237008, 0.57855147, 0.52153306, 0.00268806, 0.98834542]])"
            ]
          },
          "metadata": {
            "tags": []
          },
          "execution_count": 388
        }
      ]
    },
    {
      "cell_type": "code",
      "metadata": {
        "colab": {
          "base_uri": "https://localhost:8080/"
        },
        "id": "pRDnUbPMDaHV",
        "outputId": "c76a5c81-8933-41b4-d5c5-a49d4c787298"
      },
      "source": [
        "np.random.seed(123)\n",
        "ar6=np.random.randint(1,50,20)\n",
        "ar6"
      ],
      "execution_count": 391,
      "outputs": [
        {
          "output_type": "execute_result",
          "data": {
            "text/plain": [
              "array([46,  3, 29, 35, 39, 18, 20, 43, 23, 34, 33, 48, 10, 33, 47, 33, 48,\n",
              "       26, 20, 15])"
            ]
          },
          "metadata": {
            "tags": []
          },
          "execution_count": 391
        }
      ]
    },
    {
      "cell_type": "code",
      "metadata": {
        "colab": {
          "base_uri": "https://localhost:8080/"
        },
        "id": "-O92PLiEEEW_",
        "outputId": "582fd7e6-74e0-45d8-ca82-ded533841bf2"
      },
      "source": [
        "ar6[ar6%2==-1]\n",
        "ar6"
      ],
      "execution_count": 392,
      "outputs": [
        {
          "output_type": "execute_result",
          "data": {
            "text/plain": [
              "array([46,  3, 29, 35, 39, 18, 20, 43, 23, 34, 33, 48, 10, 33, 47, 33, 48,\n",
              "       26, 20, 15])"
            ]
          },
          "metadata": {
            "tags": []
          },
          "execution_count": 392
        }
      ]
    },
    {
      "cell_type": "code",
      "metadata": {
        "id": "lMy7rdLZEItY"
      },
      "source": [
        "matrix = np.array([[5 , 10, 15, 20, 25],\n",
        "                   [30, 35, 40, 45, 50],\n",
        "                   [55, 60, 65, 70, 75],\n",
        "                   [80, 85, 90, 95, 100]])\n"
      ],
      "execution_count": 393,
      "outputs": []
    },
    {
      "cell_type": "code",
      "metadata": {
        "colab": {
          "base_uri": "https://localhost:8080/"
        },
        "id": "7ewYlaRGFTru",
        "outputId": "88c6025a-be76-4bc2-820a-f47a2772a99d"
      },
      "source": [
        "matrix"
      ],
      "execution_count": 394,
      "outputs": [
        {
          "output_type": "execute_result",
          "data": {
            "text/plain": [
              "array([[  5,  10,  15,  20,  25],\n",
              "       [ 30,  35,  40,  45,  50],\n",
              "       [ 55,  60,  65,  70,  75],\n",
              "       [ 80,  85,  90,  95, 100]])"
            ]
          },
          "metadata": {
            "tags": []
          },
          "execution_count": 394
        }
      ]
    },
    {
      "cell_type": "code",
      "metadata": {
        "colab": {
          "base_uri": "https://localhost:8080/"
        },
        "id": "zwvufKvhFULA",
        "outputId": "0a034665-1946-45d8-c81b-83e02a7e4591"
      },
      "source": [
        "matrix[1:3,0:3]"
      ],
      "execution_count": 396,
      "outputs": [
        {
          "output_type": "execute_result",
          "data": {
            "text/plain": [
              "array([[30, 35, 40],\n",
              "       [55, 60, 65]])"
            ]
          },
          "metadata": {
            "tags": []
          },
          "execution_count": 396
        }
      ]
    },
    {
      "cell_type": "code",
      "metadata": {
        "id": "W6AeecQFFjlv"
      },
      "source": [
        "arr7 = np.array([1,2,3])\n",
        "arr8 = np.array([4,5,6])\n"
      ],
      "execution_count": 397,
      "outputs": []
    },
    {
      "cell_type": "code",
      "metadata": {
        "colab": {
          "base_uri": "https://localhost:8080/"
        },
        "id": "Ecnv6mtUF7KB",
        "outputId": "d0b38f44-a958-44f3-80a2-ef66e70e3eaf"
      },
      "source": [
        "np.hstack((arr7,arr8))"
      ],
      "execution_count": 398,
      "outputs": [
        {
          "output_type": "execute_result",
          "data": {
            "text/plain": [
              "array([1, 2, 3, 4, 5, 6])"
            ]
          },
          "metadata": {
            "tags": []
          },
          "execution_count": 398
        }
      ]
    },
    {
      "cell_type": "code",
      "metadata": {
        "id": "aXy85EH8GBZ2"
      },
      "source": [
        "matrix2 = np.random.randint(1,10,9).reshape(3,3)\n",
        "matrix3 = np.random.randint(10,20,9).reshape(3,3)"
      ],
      "execution_count": 399,
      "outputs": []
    },
    {
      "cell_type": "code",
      "metadata": {
        "colab": {
          "base_uri": "https://localhost:8080/",
          "height": 119
        },
        "id": "yhd_DfxUGHTm",
        "outputId": "61a24a6f-de67-4bf7-a7d0-01a8775e6f0c"
      },
      "source": [
        "display(matrix2,matrix3)"
      ],
      "execution_count": 402,
      "outputs": [
        {
          "output_type": "display_data",
          "data": {
            "text/plain": [
              "array([[5, 1, 1],\n",
              "       [5, 2, 8],\n",
              "       [4, 3, 5]])"
            ]
          },
          "metadata": {
            "tags": []
          }
        },
        {
          "output_type": "display_data",
          "data": {
            "text/plain": [
              "array([[17, 12, 14],\n",
              "       [18, 10, 17],\n",
              "       [19, 13, 14]])"
            ]
          },
          "metadata": {
            "tags": []
          }
        }
      ]
    },
    {
      "cell_type": "code",
      "metadata": {
        "colab": {
          "base_uri": "https://localhost:8080/"
        },
        "id": "VGn0IAlNGJ5W",
        "outputId": "00a68197-991b-42c4-ec48-f680550e9630"
      },
      "source": [
        "np.hstack((matrix2, matrix3))"
      ],
      "execution_count": 404,
      "outputs": [
        {
          "output_type": "execute_result",
          "data": {
            "text/plain": [
              "array([[ 5,  1,  1, 17, 12, 14],\n",
              "       [ 5,  2,  8, 18, 10, 17],\n",
              "       [ 4,  3,  5, 19, 13, 14]])"
            ]
          },
          "metadata": {
            "tags": []
          },
          "execution_count": 404
        }
      ]
    },
    {
      "cell_type": "code",
      "metadata": {
        "colab": {
          "base_uri": "https://localhost:8080/"
        },
        "id": "pr7uzFS3GMJu",
        "outputId": "6c78da87-fc29-4166-a71a-9bcee3e77b12"
      },
      "source": [
        "np.vstack((matrix2, matrix3))"
      ],
      "execution_count": 405,
      "outputs": [
        {
          "output_type": "execute_result",
          "data": {
            "text/plain": [
              "array([[ 5,  1,  1],\n",
              "       [ 5,  2,  8],\n",
              "       [ 4,  3,  5],\n",
              "       [17, 12, 14],\n",
              "       [18, 10, 17],\n",
              "       [19, 13, 14]])"
            ]
          },
          "metadata": {
            "tags": []
          },
          "execution_count": 405
        }
      ]
    },
    {
      "cell_type": "code",
      "metadata": {
        "colab": {
          "base_uri": "https://localhost:8080/"
        },
        "id": "g2LlByZTGWYz",
        "outputId": "a6de030b-ecec-41f9-d6a5-0470ab306cc0"
      },
      "source": [
        "%timeit 2+3"
      ],
      "execution_count": 407,
      "outputs": [
        {
          "output_type": "stream",
          "text": [
            "100000000 loops, best of 5: 13.2 ns per loop\n"
          ],
          "name": "stdout"
        }
      ]
    },
    {
      "cell_type": "code",
      "metadata": {
        "colab": {
          "base_uri": "https://localhost:8080/"
        },
        "id": "WFZ6UIY-Gx-T",
        "outputId": "c46eaa83-c733-450c-ce27-9563fb079938"
      },
      "source": [
        "%timeit [i**2 for i in range(1,4)]"
      ],
      "execution_count": 408,
      "outputs": [
        {
          "output_type": "stream",
          "text": [
            "1000000 loops, best of 5: 1.14 µs per loop\n"
          ],
          "name": "stdout"
        }
      ]
    },
    {
      "cell_type": "code",
      "metadata": {
        "colab": {
          "base_uri": "https://localhost:8080/"
        },
        "id": "qfXSz-1jHMUb",
        "outputId": "c4cfa4c7-9538-47b0-d5ff-0a0b175e3d15"
      },
      "source": [
        "%timeit l=[]\n",
        "for i in range(1,10000):\n",
        "  l.append(i**2)\n",
        "l"
      ],
      "execution_count": 414,
      "outputs": [
        {
          "output_type": "stream",
          "text": [
            "10000000 loops, best of 5: 32.6 ns per loop\n"
          ],
          "name": "stdout"
        },
        {
          "output_type": "execute_result",
          "data": {
            "text/plain": [
              "[1,\n",
              " 4,\n",
              " 9,\n",
              " 1,\n",
              " 4,\n",
              " 9,\n",
              " 1,\n",
              " 4,\n",
              " 9,\n",
              " 16,\n",
              " 25,\n",
              " 36,\n",
              " 49,\n",
              " 64,\n",
              " 81,\n",
              " 100,\n",
              " 121,\n",
              " 144,\n",
              " 169,\n",
              " 196,\n",
              " 225,\n",
              " 256,\n",
              " 289,\n",
              " 324,\n",
              " 361,\n",
              " 400,\n",
              " 441,\n",
              " 484,\n",
              " 529,\n",
              " 576,\n",
              " 625,\n",
              " 676,\n",
              " 729,\n",
              " 784,\n",
              " 841,\n",
              " 900,\n",
              " 961,\n",
              " 1024,\n",
              " 1089,\n",
              " 1156,\n",
              " 1225,\n",
              " 1296,\n",
              " 1369,\n",
              " 1444,\n",
              " 1521,\n",
              " 1600,\n",
              " 1681,\n",
              " 1764,\n",
              " 1849,\n",
              " 1936,\n",
              " 2025,\n",
              " 2116,\n",
              " 2209,\n",
              " 2304,\n",
              " 2401,\n",
              " 2500,\n",
              " 2601,\n",
              " 2704,\n",
              " 2809,\n",
              " 2916,\n",
              " 3025,\n",
              " 3136,\n",
              " 3249,\n",
              " 3364,\n",
              " 3481,\n",
              " 3600,\n",
              " 3721,\n",
              " 3844,\n",
              " 3969,\n",
              " 4096,\n",
              " 4225,\n",
              " 4356,\n",
              " 4489,\n",
              " 4624,\n",
              " 4761,\n",
              " 4900,\n",
              " 5041,\n",
              " 5184,\n",
              " 5329,\n",
              " 5476,\n",
              " 5625,\n",
              " 5776,\n",
              " 5929,\n",
              " 6084,\n",
              " 6241,\n",
              " 6400,\n",
              " 6561,\n",
              " 6724,\n",
              " 6889,\n",
              " 7056,\n",
              " 7225,\n",
              " 7396,\n",
              " 7569,\n",
              " 7744,\n",
              " 7921,\n",
              " 8100,\n",
              " 8281,\n",
              " 8464,\n",
              " 8649,\n",
              " 8836,\n",
              " 9025,\n",
              " 9216,\n",
              " 9409,\n",
              " 9604,\n",
              " 9801,\n",
              " 10000,\n",
              " 10201,\n",
              " 10404,\n",
              " 10609,\n",
              " 10816,\n",
              " 11025,\n",
              " 11236,\n",
              " 11449,\n",
              " 11664,\n",
              " 11881,\n",
              " 12100,\n",
              " 12321,\n",
              " 12544,\n",
              " 12769,\n",
              " 12996,\n",
              " 13225,\n",
              " 13456,\n",
              " 13689,\n",
              " 13924,\n",
              " 14161,\n",
              " 14400,\n",
              " 14641,\n",
              " 14884,\n",
              " 15129,\n",
              " 15376,\n",
              " 15625,\n",
              " 15876,\n",
              " 16129,\n",
              " 16384,\n",
              " 16641,\n",
              " 16900,\n",
              " 17161,\n",
              " 17424,\n",
              " 17689,\n",
              " 17956,\n",
              " 18225,\n",
              " 18496,\n",
              " 18769,\n",
              " 19044,\n",
              " 19321,\n",
              " 19600,\n",
              " 19881,\n",
              " 20164,\n",
              " 20449,\n",
              " 20736,\n",
              " 21025,\n",
              " 21316,\n",
              " 21609,\n",
              " 21904,\n",
              " 22201,\n",
              " 22500,\n",
              " 22801,\n",
              " 23104,\n",
              " 23409,\n",
              " 23716,\n",
              " 24025,\n",
              " 24336,\n",
              " 24649,\n",
              " 24964,\n",
              " 25281,\n",
              " 25600,\n",
              " 25921,\n",
              " 26244,\n",
              " 26569,\n",
              " 26896,\n",
              " 27225,\n",
              " 27556,\n",
              " 27889,\n",
              " 28224,\n",
              " 28561,\n",
              " 28900,\n",
              " 29241,\n",
              " 29584,\n",
              " 29929,\n",
              " 30276,\n",
              " 30625,\n",
              " 30976,\n",
              " 31329,\n",
              " 31684,\n",
              " 32041,\n",
              " 32400,\n",
              " 32761,\n",
              " 33124,\n",
              " 33489,\n",
              " 33856,\n",
              " 34225,\n",
              " 34596,\n",
              " 34969,\n",
              " 35344,\n",
              " 35721,\n",
              " 36100,\n",
              " 36481,\n",
              " 36864,\n",
              " 37249,\n",
              " 37636,\n",
              " 38025,\n",
              " 38416,\n",
              " 38809,\n",
              " 39204,\n",
              " 39601,\n",
              " 40000,\n",
              " 40401,\n",
              " 40804,\n",
              " 41209,\n",
              " 41616,\n",
              " 42025,\n",
              " 42436,\n",
              " 42849,\n",
              " 43264,\n",
              " 43681,\n",
              " 44100,\n",
              " 44521,\n",
              " 44944,\n",
              " 45369,\n",
              " 45796,\n",
              " 46225,\n",
              " 46656,\n",
              " 47089,\n",
              " 47524,\n",
              " 47961,\n",
              " 48400,\n",
              " 48841,\n",
              " 49284,\n",
              " 49729,\n",
              " 50176,\n",
              " 50625,\n",
              " 51076,\n",
              " 51529,\n",
              " 51984,\n",
              " 52441,\n",
              " 52900,\n",
              " 53361,\n",
              " 53824,\n",
              " 54289,\n",
              " 54756,\n",
              " 55225,\n",
              " 55696,\n",
              " 56169,\n",
              " 56644,\n",
              " 57121,\n",
              " 57600,\n",
              " 58081,\n",
              " 58564,\n",
              " 59049,\n",
              " 59536,\n",
              " 60025,\n",
              " 60516,\n",
              " 61009,\n",
              " 61504,\n",
              " 62001,\n",
              " 62500,\n",
              " 63001,\n",
              " 63504,\n",
              " 64009,\n",
              " 64516,\n",
              " 65025,\n",
              " 65536,\n",
              " 66049,\n",
              " 66564,\n",
              " 67081,\n",
              " 67600,\n",
              " 68121,\n",
              " 68644,\n",
              " 69169,\n",
              " 69696,\n",
              " 70225,\n",
              " 70756,\n",
              " 71289,\n",
              " 71824,\n",
              " 72361,\n",
              " 72900,\n",
              " 73441,\n",
              " 73984,\n",
              " 74529,\n",
              " 75076,\n",
              " 75625,\n",
              " 76176,\n",
              " 76729,\n",
              " 77284,\n",
              " 77841,\n",
              " 78400,\n",
              " 78961,\n",
              " 79524,\n",
              " 80089,\n",
              " 80656,\n",
              " 81225,\n",
              " 81796,\n",
              " 82369,\n",
              " 82944,\n",
              " 83521,\n",
              " 84100,\n",
              " 84681,\n",
              " 85264,\n",
              " 85849,\n",
              " 86436,\n",
              " 87025,\n",
              " 87616,\n",
              " 88209,\n",
              " 88804,\n",
              " 89401,\n",
              " 90000,\n",
              " 90601,\n",
              " 91204,\n",
              " 91809,\n",
              " 92416,\n",
              " 93025,\n",
              " 93636,\n",
              " 94249,\n",
              " 94864,\n",
              " 95481,\n",
              " 96100,\n",
              " 96721,\n",
              " 97344,\n",
              " 97969,\n",
              " 98596,\n",
              " 99225,\n",
              " 99856,\n",
              " 100489,\n",
              " 101124,\n",
              " 101761,\n",
              " 102400,\n",
              " 103041,\n",
              " 103684,\n",
              " 104329,\n",
              " 104976,\n",
              " 105625,\n",
              " 106276,\n",
              " 106929,\n",
              " 107584,\n",
              " 108241,\n",
              " 108900,\n",
              " 109561,\n",
              " 110224,\n",
              " 110889,\n",
              " 111556,\n",
              " 112225,\n",
              " 112896,\n",
              " 113569,\n",
              " 114244,\n",
              " 114921,\n",
              " 115600,\n",
              " 116281,\n",
              " 116964,\n",
              " 117649,\n",
              " 118336,\n",
              " 119025,\n",
              " 119716,\n",
              " 120409,\n",
              " 121104,\n",
              " 121801,\n",
              " 122500,\n",
              " 123201,\n",
              " 123904,\n",
              " 124609,\n",
              " 125316,\n",
              " 126025,\n",
              " 126736,\n",
              " 127449,\n",
              " 128164,\n",
              " 128881,\n",
              " 129600,\n",
              " 130321,\n",
              " 131044,\n",
              " 131769,\n",
              " 132496,\n",
              " 133225,\n",
              " 133956,\n",
              " 134689,\n",
              " 135424,\n",
              " 136161,\n",
              " 136900,\n",
              " 137641,\n",
              " 138384,\n",
              " 139129,\n",
              " 139876,\n",
              " 140625,\n",
              " 141376,\n",
              " 142129,\n",
              " 142884,\n",
              " 143641,\n",
              " 144400,\n",
              " 145161,\n",
              " 145924,\n",
              " 146689,\n",
              " 147456,\n",
              " 148225,\n",
              " 148996,\n",
              " 149769,\n",
              " 150544,\n",
              " 151321,\n",
              " 152100,\n",
              " 152881,\n",
              " 153664,\n",
              " 154449,\n",
              " 155236,\n",
              " 156025,\n",
              " 156816,\n",
              " 157609,\n",
              " 158404,\n",
              " 159201,\n",
              " 160000,\n",
              " 160801,\n",
              " 161604,\n",
              " 162409,\n",
              " 163216,\n",
              " 164025,\n",
              " 164836,\n",
              " 165649,\n",
              " 166464,\n",
              " 167281,\n",
              " 168100,\n",
              " 168921,\n",
              " 169744,\n",
              " 170569,\n",
              " 171396,\n",
              " 172225,\n",
              " 173056,\n",
              " 173889,\n",
              " 174724,\n",
              " 175561,\n",
              " 176400,\n",
              " 177241,\n",
              " 178084,\n",
              " 178929,\n",
              " 179776,\n",
              " 180625,\n",
              " 181476,\n",
              " 182329,\n",
              " 183184,\n",
              " 184041,\n",
              " 184900,\n",
              " 185761,\n",
              " 186624,\n",
              " 187489,\n",
              " 188356,\n",
              " 189225,\n",
              " 190096,\n",
              " 190969,\n",
              " 191844,\n",
              " 192721,\n",
              " 193600,\n",
              " 194481,\n",
              " 195364,\n",
              " 196249,\n",
              " 197136,\n",
              " 198025,\n",
              " 198916,\n",
              " 199809,\n",
              " 200704,\n",
              " 201601,\n",
              " 202500,\n",
              " 203401,\n",
              " 204304,\n",
              " 205209,\n",
              " 206116,\n",
              " 207025,\n",
              " 207936,\n",
              " 208849,\n",
              " 209764,\n",
              " 210681,\n",
              " 211600,\n",
              " 212521,\n",
              " 213444,\n",
              " 214369,\n",
              " 215296,\n",
              " 216225,\n",
              " 217156,\n",
              " 218089,\n",
              " 219024,\n",
              " 219961,\n",
              " 220900,\n",
              " 221841,\n",
              " 222784,\n",
              " 223729,\n",
              " 224676,\n",
              " 225625,\n",
              " 226576,\n",
              " 227529,\n",
              " 228484,\n",
              " 229441,\n",
              " 230400,\n",
              " 231361,\n",
              " 232324,\n",
              " 233289,\n",
              " 234256,\n",
              " 235225,\n",
              " 236196,\n",
              " 237169,\n",
              " 238144,\n",
              " 239121,\n",
              " 240100,\n",
              " 241081,\n",
              " 242064,\n",
              " 243049,\n",
              " 244036,\n",
              " 245025,\n",
              " 246016,\n",
              " 247009,\n",
              " 248004,\n",
              " 249001,\n",
              " 250000,\n",
              " 251001,\n",
              " 252004,\n",
              " 253009,\n",
              " 254016,\n",
              " 255025,\n",
              " 256036,\n",
              " 257049,\n",
              " 258064,\n",
              " 259081,\n",
              " 260100,\n",
              " 261121,\n",
              " 262144,\n",
              " 263169,\n",
              " 264196,\n",
              " 265225,\n",
              " 266256,\n",
              " 267289,\n",
              " 268324,\n",
              " 269361,\n",
              " 270400,\n",
              " 271441,\n",
              " 272484,\n",
              " 273529,\n",
              " 274576,\n",
              " 275625,\n",
              " 276676,\n",
              " 277729,\n",
              " 278784,\n",
              " 279841,\n",
              " 280900,\n",
              " 281961,\n",
              " 283024,\n",
              " 284089,\n",
              " 285156,\n",
              " 286225,\n",
              " 287296,\n",
              " 288369,\n",
              " 289444,\n",
              " 290521,\n",
              " 291600,\n",
              " 292681,\n",
              " 293764,\n",
              " 294849,\n",
              " 295936,\n",
              " 297025,\n",
              " 298116,\n",
              " 299209,\n",
              " 300304,\n",
              " 301401,\n",
              " 302500,\n",
              " 303601,\n",
              " 304704,\n",
              " 305809,\n",
              " 306916,\n",
              " 308025,\n",
              " 309136,\n",
              " 310249,\n",
              " 311364,\n",
              " 312481,\n",
              " 313600,\n",
              " 314721,\n",
              " 315844,\n",
              " 316969,\n",
              " 318096,\n",
              " 319225,\n",
              " 320356,\n",
              " 321489,\n",
              " 322624,\n",
              " 323761,\n",
              " 324900,\n",
              " 326041,\n",
              " 327184,\n",
              " 328329,\n",
              " 329476,\n",
              " 330625,\n",
              " 331776,\n",
              " 332929,\n",
              " 334084,\n",
              " 335241,\n",
              " 336400,\n",
              " 337561,\n",
              " 338724,\n",
              " 339889,\n",
              " 341056,\n",
              " 342225,\n",
              " 343396,\n",
              " 344569,\n",
              " 345744,\n",
              " 346921,\n",
              " 348100,\n",
              " 349281,\n",
              " 350464,\n",
              " 351649,\n",
              " 352836,\n",
              " 354025,\n",
              " 355216,\n",
              " 356409,\n",
              " 357604,\n",
              " 358801,\n",
              " 360000,\n",
              " 361201,\n",
              " 362404,\n",
              " 363609,\n",
              " 364816,\n",
              " 366025,\n",
              " 367236,\n",
              " 368449,\n",
              " 369664,\n",
              " 370881,\n",
              " 372100,\n",
              " 373321,\n",
              " 374544,\n",
              " 375769,\n",
              " 376996,\n",
              " 378225,\n",
              " 379456,\n",
              " 380689,\n",
              " 381924,\n",
              " 383161,\n",
              " 384400,\n",
              " 385641,\n",
              " 386884,\n",
              " 388129,\n",
              " 389376,\n",
              " 390625,\n",
              " 391876,\n",
              " 393129,\n",
              " 394384,\n",
              " 395641,\n",
              " 396900,\n",
              " 398161,\n",
              " 399424,\n",
              " 400689,\n",
              " 401956,\n",
              " 403225,\n",
              " 404496,\n",
              " 405769,\n",
              " 407044,\n",
              " 408321,\n",
              " 409600,\n",
              " 410881,\n",
              " 412164,\n",
              " 413449,\n",
              " 414736,\n",
              " 416025,\n",
              " 417316,\n",
              " 418609,\n",
              " 419904,\n",
              " 421201,\n",
              " 422500,\n",
              " 423801,\n",
              " 425104,\n",
              " 426409,\n",
              " 427716,\n",
              " 429025,\n",
              " 430336,\n",
              " 431649,\n",
              " 432964,\n",
              " 434281,\n",
              " 435600,\n",
              " 436921,\n",
              " 438244,\n",
              " 439569,\n",
              " 440896,\n",
              " 442225,\n",
              " 443556,\n",
              " 444889,\n",
              " 446224,\n",
              " 447561,\n",
              " 448900,\n",
              " 450241,\n",
              " 451584,\n",
              " 452929,\n",
              " 454276,\n",
              " 455625,\n",
              " 456976,\n",
              " 458329,\n",
              " 459684,\n",
              " 461041,\n",
              " 462400,\n",
              " 463761,\n",
              " 465124,\n",
              " 466489,\n",
              " 467856,\n",
              " 469225,\n",
              " 470596,\n",
              " 471969,\n",
              " 473344,\n",
              " 474721,\n",
              " 476100,\n",
              " 477481,\n",
              " 478864,\n",
              " 480249,\n",
              " 481636,\n",
              " 483025,\n",
              " 484416,\n",
              " 485809,\n",
              " 487204,\n",
              " 488601,\n",
              " 490000,\n",
              " 491401,\n",
              " 492804,\n",
              " 494209,\n",
              " 495616,\n",
              " 497025,\n",
              " 498436,\n",
              " 499849,\n",
              " 501264,\n",
              " 502681,\n",
              " 504100,\n",
              " 505521,\n",
              " 506944,\n",
              " 508369,\n",
              " 509796,\n",
              " 511225,\n",
              " 512656,\n",
              " 514089,\n",
              " 515524,\n",
              " 516961,\n",
              " 518400,\n",
              " 519841,\n",
              " 521284,\n",
              " 522729,\n",
              " 524176,\n",
              " 525625,\n",
              " 527076,\n",
              " 528529,\n",
              " 529984,\n",
              " 531441,\n",
              " 532900,\n",
              " 534361,\n",
              " 535824,\n",
              " 537289,\n",
              " 538756,\n",
              " 540225,\n",
              " 541696,\n",
              " 543169,\n",
              " 544644,\n",
              " 546121,\n",
              " 547600,\n",
              " 549081,\n",
              " 550564,\n",
              " 552049,\n",
              " 553536,\n",
              " 555025,\n",
              " 556516,\n",
              " 558009,\n",
              " 559504,\n",
              " 561001,\n",
              " 562500,\n",
              " 564001,\n",
              " 565504,\n",
              " 567009,\n",
              " 568516,\n",
              " 570025,\n",
              " 571536,\n",
              " 573049,\n",
              " 574564,\n",
              " 576081,\n",
              " 577600,\n",
              " 579121,\n",
              " 580644,\n",
              " 582169,\n",
              " 583696,\n",
              " 585225,\n",
              " 586756,\n",
              " 588289,\n",
              " 589824,\n",
              " 591361,\n",
              " 592900,\n",
              " 594441,\n",
              " 595984,\n",
              " 597529,\n",
              " 599076,\n",
              " 600625,\n",
              " 602176,\n",
              " 603729,\n",
              " 605284,\n",
              " 606841,\n",
              " 608400,\n",
              " 609961,\n",
              " 611524,\n",
              " 613089,\n",
              " 614656,\n",
              " 616225,\n",
              " 617796,\n",
              " 619369,\n",
              " 620944,\n",
              " 622521,\n",
              " 624100,\n",
              " 625681,\n",
              " 627264,\n",
              " 628849,\n",
              " 630436,\n",
              " 632025,\n",
              " 633616,\n",
              " 635209,\n",
              " 636804,\n",
              " 638401,\n",
              " 640000,\n",
              " 641601,\n",
              " 643204,\n",
              " 644809,\n",
              " 646416,\n",
              " 648025,\n",
              " 649636,\n",
              " 651249,\n",
              " 652864,\n",
              " 654481,\n",
              " 656100,\n",
              " 657721,\n",
              " 659344,\n",
              " 660969,\n",
              " 662596,\n",
              " 664225,\n",
              " 665856,\n",
              " 667489,\n",
              " 669124,\n",
              " 670761,\n",
              " 672400,\n",
              " 674041,\n",
              " 675684,\n",
              " 677329,\n",
              " 678976,\n",
              " 680625,\n",
              " 682276,\n",
              " 683929,\n",
              " 685584,\n",
              " 687241,\n",
              " 688900,\n",
              " 690561,\n",
              " 692224,\n",
              " 693889,\n",
              " 695556,\n",
              " 697225,\n",
              " 698896,\n",
              " 700569,\n",
              " 702244,\n",
              " 703921,\n",
              " 705600,\n",
              " 707281,\n",
              " 708964,\n",
              " 710649,\n",
              " 712336,\n",
              " 714025,\n",
              " 715716,\n",
              " 717409,\n",
              " 719104,\n",
              " 720801,\n",
              " 722500,\n",
              " 724201,\n",
              " 725904,\n",
              " 727609,\n",
              " 729316,\n",
              " 731025,\n",
              " 732736,\n",
              " 734449,\n",
              " 736164,\n",
              " 737881,\n",
              " 739600,\n",
              " 741321,\n",
              " 743044,\n",
              " 744769,\n",
              " 746496,\n",
              " 748225,\n",
              " 749956,\n",
              " 751689,\n",
              " 753424,\n",
              " 755161,\n",
              " 756900,\n",
              " 758641,\n",
              " 760384,\n",
              " 762129,\n",
              " 763876,\n",
              " 765625,\n",
              " 767376,\n",
              " 769129,\n",
              " 770884,\n",
              " 772641,\n",
              " 774400,\n",
              " 776161,\n",
              " 777924,\n",
              " 779689,\n",
              " 781456,\n",
              " 783225,\n",
              " 784996,\n",
              " 786769,\n",
              " 788544,\n",
              " 790321,\n",
              " 792100,\n",
              " 793881,\n",
              " 795664,\n",
              " 797449,\n",
              " 799236,\n",
              " 801025,\n",
              " 802816,\n",
              " 804609,\n",
              " 806404,\n",
              " 808201,\n",
              " 810000,\n",
              " 811801,\n",
              " 813604,\n",
              " 815409,\n",
              " 817216,\n",
              " 819025,\n",
              " 820836,\n",
              " 822649,\n",
              " 824464,\n",
              " 826281,\n",
              " 828100,\n",
              " 829921,\n",
              " 831744,\n",
              " 833569,\n",
              " 835396,\n",
              " 837225,\n",
              " 839056,\n",
              " 840889,\n",
              " 842724,\n",
              " 844561,\n",
              " 846400,\n",
              " 848241,\n",
              " 850084,\n",
              " 851929,\n",
              " 853776,\n",
              " 855625,\n",
              " 857476,\n",
              " 859329,\n",
              " 861184,\n",
              " 863041,\n",
              " 864900,\n",
              " 866761,\n",
              " 868624,\n",
              " 870489,\n",
              " 872356,\n",
              " 874225,\n",
              " 876096,\n",
              " 877969,\n",
              " 879844,\n",
              " 881721,\n",
              " 883600,\n",
              " 885481,\n",
              " 887364,\n",
              " 889249,\n",
              " 891136,\n",
              " 893025,\n",
              " 894916,\n",
              " 896809,\n",
              " 898704,\n",
              " 900601,\n",
              " 902500,\n",
              " 904401,\n",
              " 906304,\n",
              " 908209,\n",
              " 910116,\n",
              " 912025,\n",
              " 913936,\n",
              " 915849,\n",
              " 917764,\n",
              " 919681,\n",
              " 921600,\n",
              " 923521,\n",
              " 925444,\n",
              " 927369,\n",
              " 929296,\n",
              " 931225,\n",
              " 933156,\n",
              " 935089,\n",
              " 937024,\n",
              " 938961,\n",
              " 940900,\n",
              " 942841,\n",
              " 944784,\n",
              " 946729,\n",
              " 948676,\n",
              " 950625,\n",
              " 952576,\n",
              " 954529,\n",
              " 956484,\n",
              " 958441,\n",
              " 960400,\n",
              " 962361,\n",
              " 964324,\n",
              " 966289,\n",
              " 968256,\n",
              " 970225,\n",
              " 972196,\n",
              " 974169,\n",
              " 976144,\n",
              " 978121,\n",
              " 980100,\n",
              " 982081,\n",
              " 984064,\n",
              " 986049,\n",
              " 988036,\n",
              " ...]"
            ]
          },
          "metadata": {
            "tags": []
          },
          "execution_count": 414
        }
      ]
    },
    {
      "cell_type": "code",
      "metadata": {
        "colab": {
          "base_uri": "https://localhost:8080/"
        },
        "id": "rRDfmIGDHdBi",
        "outputId": "ccb47e12-a07e-4903-f9aa-4f9f46e364c7"
      },
      "source": [
        "%timeit np.arange(1,10000)**2"
      ],
      "execution_count": 415,
      "outputs": [
        {
          "output_type": "stream",
          "text": [
            "The slowest run took 7.82 times longer than the fastest. This could mean that an intermediate result is being cached.\n",
            "100000 loops, best of 5: 15.9 µs per loop\n"
          ],
          "name": "stdout"
        }
      ]
    },
    {
      "cell_type": "code",
      "metadata": {
        "id": "Cjy7itw9Hxvy"
      },
      "source": [
        ""
      ],
      "execution_count": null,
      "outputs": []
    }
  ]
}